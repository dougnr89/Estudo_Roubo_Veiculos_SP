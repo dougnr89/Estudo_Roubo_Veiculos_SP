{
  "nbformat": 4,
  "nbformat_minor": 0,
  "metadata": {
    "colab": {
      "provenance": [],
      "authorship_tag": "ABX9TyMJ3UTY0s/foaiENTeIN7Fa",
      "include_colab_link": true
    },
    "kernelspec": {
      "name": "python3",
      "display_name": "Python 3"
    },
    "language_info": {
      "name": "python"
    }
  },
  "cells": [
    {
      "cell_type": "markdown",
      "metadata": {
        "id": "view-in-github",
        "colab_type": "text"
      },
      "source": [
        "<a href=\"https://colab.research.google.com/github/dougnr89/Estudo_Roubo_Veiculos_SP/blob/main/TCC_Rascunho.ipynb\" target=\"_parent\"><img src=\"https://colab.research.google.com/assets/colab-badge.svg\" alt=\"Open In Colab\"/></a>"
      ]
    },
    {
      "cell_type": "markdown",
      "source": [
        "**Import Bibliotecas**"
      ],
      "metadata": {
        "id": "yCpMQoPXgkjF"
      }
    },
    {
      "cell_type": "code",
      "execution_count": 1,
      "metadata": {
        "colab": {
          "base_uri": "https://localhost:8080/",
          "height": 17
        },
        "id": "x8omEYAnSPLb",
        "outputId": "a21e1a51-43f7-415a-f0d6-512a3fee1b3e"
      },
      "outputs": [
        {
          "output_type": "display_data",
          "data": {
            "text/html": [
              "        <script type=\"text/javascript\">\n",
              "        window.PlotlyConfig = {MathJaxConfig: 'local'};\n",
              "        if (window.MathJax && window.MathJax.Hub && window.MathJax.Hub.Config) {window.MathJax.Hub.Config({SVG: {font: \"STIX-Web\"}});}\n",
              "        if (typeof require !== 'undefined') {\n",
              "        require.undef(\"plotly\");\n",
              "        requirejs.config({\n",
              "            paths: {\n",
              "                'plotly': ['https://cdn.plot.ly/plotly-2.24.1.min']\n",
              "            }\n",
              "        });\n",
              "        require(['plotly'], function(Plotly) {\n",
              "            window._Plotly = Plotly;\n",
              "        });\n",
              "        }\n",
              "        </script>\n",
              "        "
            ]
          },
          "metadata": {}
        }
      ],
      "source": [
        "!pip install squarify -qqq\n",
        "\n",
        "import pandas as pd\n",
        "import numpy as np\n",
        "import seaborn as sns\n",
        "import squarify\n",
        "import glob\n",
        "import re\n",
        "import itertools\n",
        "import statsmodels.api as sm\n",
        "import matplotlib.pyplot as plt\n",
        "import matplotlib\n",
        "plt.style.use('fivethirtyeight')\n",
        "\n",
        "import plotly.offline as py\n",
        "py.init_notebook_mode(connected=True)\n",
        "\n",
        "import plotly.graph_objs as go\n",
        "import plotly.tools as tls\n",
        "from folium import Map\n",
        "from folium.plugins import HeatMap\n",
        "from folium.plugins import FastMarkerCluster\n",
        "\n",
        "import warnings\n",
        "warnings.filterwarnings(\"ignore\")"
      ]
    },
    {
      "cell_type": "markdown",
      "source": [
        "**Import Dataset**"
      ],
      "metadata": {
        "id": "5Wi4iJ92gzq_"
      }
    },
    {
      "cell_type": "code",
      "source": [
        "dir_path = \"/content/\"\n",
        "\n",
        "def importaData(files):\n",
        "\n",
        "    dados = dir_path + files\n",
        "    allFiles = glob.glob('/content/*.csv')\n",
        "\n",
        "    list_ = []\n",
        "    cols = ['ANO_BO', 'DATAOCORRENCIA', 'PERIDOOCORRENCIA', 'BAIRRO', 'CIDADE', 'LATITUDE', 'LONGITUDE', 'LOGRADOURO', 'DESCRICAOLOCAL', 'DESCR_MARCA_VEICULO', 'DESCR_TIPO_VEICULO']\n",
        "\n",
        "    for file_ in allFiles:\n",
        "        df = pd.read_csv(file_,index_col=None, header=0, delimiter=';', usecols=cols, encoding='ISO-8859-1')\n",
        "        list_.append(df)\n",
        "\n",
        "    df = pd.concat(list_, axis = 0, ignore_index = True)\n",
        "\n",
        "    return df\n",
        "\n",
        "all_data = importaData('*.csv')"
      ],
      "metadata": {
        "id": "sprOYcAZdZKG"
      },
      "execution_count": 2,
      "outputs": []
    },
    {
      "cell_type": "markdown",
      "source": [
        "**Visualizando os dados**\n"
      ],
      "metadata": {
        "id": "Lqj9kfx-g_x6"
      }
    },
    {
      "cell_type": "code",
      "source": [
        "all_data.tail()"
      ],
      "metadata": {
        "id": "UTiJ5RZrJ9-c"
      },
      "execution_count": null,
      "outputs": []
    },
    {
      "cell_type": "markdown",
      "source": [
        "**Estatística**"
      ],
      "metadata": {
        "id": "xYHAOiJ5gFIc"
      }
    },
    {
      "cell_type": "code",
      "source": [
        "all_data.describe()"
      ],
      "metadata": {
        "colab": {
          "base_uri": "https://localhost:8080/",
          "height": 300
        },
        "id": "EtfoMkeoZsFu",
        "outputId": "0ed3b57e-8e91-42af-f9a5-8d540cb47ea3"
      },
      "execution_count": 5,
      "outputs": [
        {
          "output_type": "execute_result",
          "data": {
            "text/plain": [
              "              ANO_BO\n",
              "count  116599.000000\n",
              "mean     2022.006244\n",
              "std         0.080173\n",
              "min      2021.000000\n",
              "25%      2022.000000\n",
              "50%      2022.000000\n",
              "75%      2022.000000\n",
              "max      2023.000000"
            ],
            "text/html": [
              "\n",
              "  <div id=\"df-c1f9242b-4fab-4ec3-b782-6a971abf28f2\" class=\"colab-df-container\">\n",
              "    <div>\n",
              "<style scoped>\n",
              "    .dataframe tbody tr th:only-of-type {\n",
              "        vertical-align: middle;\n",
              "    }\n",
              "\n",
              "    .dataframe tbody tr th {\n",
              "        vertical-align: top;\n",
              "    }\n",
              "\n",
              "    .dataframe thead th {\n",
              "        text-align: right;\n",
              "    }\n",
              "</style>\n",
              "<table border=\"1\" class=\"dataframe\">\n",
              "  <thead>\n",
              "    <tr style=\"text-align: right;\">\n",
              "      <th></th>\n",
              "      <th>ANO_BO</th>\n",
              "    </tr>\n",
              "  </thead>\n",
              "  <tbody>\n",
              "    <tr>\n",
              "      <th>count</th>\n",
              "      <td>116599.000000</td>\n",
              "    </tr>\n",
              "    <tr>\n",
              "      <th>mean</th>\n",
              "      <td>2022.006244</td>\n",
              "    </tr>\n",
              "    <tr>\n",
              "      <th>std</th>\n",
              "      <td>0.080173</td>\n",
              "    </tr>\n",
              "    <tr>\n",
              "      <th>min</th>\n",
              "      <td>2021.000000</td>\n",
              "    </tr>\n",
              "    <tr>\n",
              "      <th>25%</th>\n",
              "      <td>2022.000000</td>\n",
              "    </tr>\n",
              "    <tr>\n",
              "      <th>50%</th>\n",
              "      <td>2022.000000</td>\n",
              "    </tr>\n",
              "    <tr>\n",
              "      <th>75%</th>\n",
              "      <td>2022.000000</td>\n",
              "    </tr>\n",
              "    <tr>\n",
              "      <th>max</th>\n",
              "      <td>2023.000000</td>\n",
              "    </tr>\n",
              "  </tbody>\n",
              "</table>\n",
              "</div>\n",
              "    <div class=\"colab-df-buttons\">\n",
              "\n",
              "  <div class=\"colab-df-container\">\n",
              "    <button class=\"colab-df-convert\" onclick=\"convertToInteractive('df-c1f9242b-4fab-4ec3-b782-6a971abf28f2')\"\n",
              "            title=\"Convert this dataframe to an interactive table.\"\n",
              "            style=\"display:none;\">\n",
              "\n",
              "  <svg xmlns=\"http://www.w3.org/2000/svg\" height=\"24px\" viewBox=\"0 -960 960 960\">\n",
              "    <path d=\"M120-120v-720h720v720H120Zm60-500h600v-160H180v160Zm220 220h160v-160H400v160Zm0 220h160v-160H400v160ZM180-400h160v-160H180v160Zm440 0h160v-160H620v160ZM180-180h160v-160H180v160Zm440 0h160v-160H620v160Z\"/>\n",
              "  </svg>\n",
              "    </button>\n",
              "\n",
              "  <style>\n",
              "    .colab-df-container {\n",
              "      display:flex;\n",
              "      gap: 12px;\n",
              "    }\n",
              "\n",
              "    .colab-df-convert {\n",
              "      background-color: #E8F0FE;\n",
              "      border: none;\n",
              "      border-radius: 50%;\n",
              "      cursor: pointer;\n",
              "      display: none;\n",
              "      fill: #1967D2;\n",
              "      height: 32px;\n",
              "      padding: 0 0 0 0;\n",
              "      width: 32px;\n",
              "    }\n",
              "\n",
              "    .colab-df-convert:hover {\n",
              "      background-color: #E2EBFA;\n",
              "      box-shadow: 0px 1px 2px rgba(60, 64, 67, 0.3), 0px 1px 3px 1px rgba(60, 64, 67, 0.15);\n",
              "      fill: #174EA6;\n",
              "    }\n",
              "\n",
              "    .colab-df-buttons div {\n",
              "      margin-bottom: 4px;\n",
              "    }\n",
              "\n",
              "    [theme=dark] .colab-df-convert {\n",
              "      background-color: #3B4455;\n",
              "      fill: #D2E3FC;\n",
              "    }\n",
              "\n",
              "    [theme=dark] .colab-df-convert:hover {\n",
              "      background-color: #434B5C;\n",
              "      box-shadow: 0px 1px 3px 1px rgba(0, 0, 0, 0.15);\n",
              "      filter: drop-shadow(0px 1px 2px rgba(0, 0, 0, 0.3));\n",
              "      fill: #FFFFFF;\n",
              "    }\n",
              "  </style>\n",
              "\n",
              "    <script>\n",
              "      const buttonEl =\n",
              "        document.querySelector('#df-c1f9242b-4fab-4ec3-b782-6a971abf28f2 button.colab-df-convert');\n",
              "      buttonEl.style.display =\n",
              "        google.colab.kernel.accessAllowed ? 'block' : 'none';\n",
              "\n",
              "      async function convertToInteractive(key) {\n",
              "        const element = document.querySelector('#df-c1f9242b-4fab-4ec3-b782-6a971abf28f2');\n",
              "        const dataTable =\n",
              "          await google.colab.kernel.invokeFunction('convertToInteractive',\n",
              "                                                    [key], {});\n",
              "        if (!dataTable) return;\n",
              "\n",
              "        const docLinkHtml = 'Like what you see? Visit the ' +\n",
              "          '<a target=\"_blank\" href=https://colab.research.google.com/notebooks/data_table.ipynb>data table notebook</a>'\n",
              "          + ' to learn more about interactive tables.';\n",
              "        element.innerHTML = '';\n",
              "        dataTable['output_type'] = 'display_data';\n",
              "        await google.colab.output.renderOutput(dataTable, element);\n",
              "        const docLink = document.createElement('div');\n",
              "        docLink.innerHTML = docLinkHtml;\n",
              "        element.appendChild(docLink);\n",
              "      }\n",
              "    </script>\n",
              "  </div>\n",
              "\n",
              "\n",
              "<div id=\"df-81fec421-7332-44ba-87d4-40d0f3fa258a\">\n",
              "  <button class=\"colab-df-quickchart\" onclick=\"quickchart('df-81fec421-7332-44ba-87d4-40d0f3fa258a')\"\n",
              "            title=\"Suggest charts.\"\n",
              "            style=\"display:none;\">\n",
              "\n",
              "<svg xmlns=\"http://www.w3.org/2000/svg\" height=\"24px\"viewBox=\"0 0 24 24\"\n",
              "     width=\"24px\">\n",
              "    <g>\n",
              "        <path d=\"M19 3H5c-1.1 0-2 .9-2 2v14c0 1.1.9 2 2 2h14c1.1 0 2-.9 2-2V5c0-1.1-.9-2-2-2zM9 17H7v-7h2v7zm4 0h-2V7h2v10zm4 0h-2v-4h2v4z\"/>\n",
              "    </g>\n",
              "</svg>\n",
              "  </button>\n",
              "\n",
              "<style>\n",
              "  .colab-df-quickchart {\n",
              "      --bg-color: #E8F0FE;\n",
              "      --fill-color: #1967D2;\n",
              "      --hover-bg-color: #E2EBFA;\n",
              "      --hover-fill-color: #174EA6;\n",
              "      --disabled-fill-color: #AAA;\n",
              "      --disabled-bg-color: #DDD;\n",
              "  }\n",
              "\n",
              "  [theme=dark] .colab-df-quickchart {\n",
              "      --bg-color: #3B4455;\n",
              "      --fill-color: #D2E3FC;\n",
              "      --hover-bg-color: #434B5C;\n",
              "      --hover-fill-color: #FFFFFF;\n",
              "      --disabled-bg-color: #3B4455;\n",
              "      --disabled-fill-color: #666;\n",
              "  }\n",
              "\n",
              "  .colab-df-quickchart {\n",
              "    background-color: var(--bg-color);\n",
              "    border: none;\n",
              "    border-radius: 50%;\n",
              "    cursor: pointer;\n",
              "    display: none;\n",
              "    fill: var(--fill-color);\n",
              "    height: 32px;\n",
              "    padding: 0;\n",
              "    width: 32px;\n",
              "  }\n",
              "\n",
              "  .colab-df-quickchart:hover {\n",
              "    background-color: var(--hover-bg-color);\n",
              "    box-shadow: 0 1px 2px rgba(60, 64, 67, 0.3), 0 1px 3px 1px rgba(60, 64, 67, 0.15);\n",
              "    fill: var(--button-hover-fill-color);\n",
              "  }\n",
              "\n",
              "  .colab-df-quickchart-complete:disabled,\n",
              "  .colab-df-quickchart-complete:disabled:hover {\n",
              "    background-color: var(--disabled-bg-color);\n",
              "    fill: var(--disabled-fill-color);\n",
              "    box-shadow: none;\n",
              "  }\n",
              "\n",
              "  .colab-df-spinner {\n",
              "    border: 2px solid var(--fill-color);\n",
              "    border-color: transparent;\n",
              "    border-bottom-color: var(--fill-color);\n",
              "    animation:\n",
              "      spin 1s steps(1) infinite;\n",
              "  }\n",
              "\n",
              "  @keyframes spin {\n",
              "    0% {\n",
              "      border-color: transparent;\n",
              "      border-bottom-color: var(--fill-color);\n",
              "      border-left-color: var(--fill-color);\n",
              "    }\n",
              "    20% {\n",
              "      border-color: transparent;\n",
              "      border-left-color: var(--fill-color);\n",
              "      border-top-color: var(--fill-color);\n",
              "    }\n",
              "    30% {\n",
              "      border-color: transparent;\n",
              "      border-left-color: var(--fill-color);\n",
              "      border-top-color: var(--fill-color);\n",
              "      border-right-color: var(--fill-color);\n",
              "    }\n",
              "    40% {\n",
              "      border-color: transparent;\n",
              "      border-right-color: var(--fill-color);\n",
              "      border-top-color: var(--fill-color);\n",
              "    }\n",
              "    60% {\n",
              "      border-color: transparent;\n",
              "      border-right-color: var(--fill-color);\n",
              "    }\n",
              "    80% {\n",
              "      border-color: transparent;\n",
              "      border-right-color: var(--fill-color);\n",
              "      border-bottom-color: var(--fill-color);\n",
              "    }\n",
              "    90% {\n",
              "      border-color: transparent;\n",
              "      border-bottom-color: var(--fill-color);\n",
              "    }\n",
              "  }\n",
              "</style>\n",
              "\n",
              "  <script>\n",
              "    async function quickchart(key) {\n",
              "      const quickchartButtonEl =\n",
              "        document.querySelector('#' + key + ' button');\n",
              "      quickchartButtonEl.disabled = true;  // To prevent multiple clicks.\n",
              "      quickchartButtonEl.classList.add('colab-df-spinner');\n",
              "      try {\n",
              "        const charts = await google.colab.kernel.invokeFunction(\n",
              "            'suggestCharts', [key], {});\n",
              "      } catch (error) {\n",
              "        console.error('Error during call to suggestCharts:', error);\n",
              "      }\n",
              "      quickchartButtonEl.classList.remove('colab-df-spinner');\n",
              "      quickchartButtonEl.classList.add('colab-df-quickchart-complete');\n",
              "    }\n",
              "    (() => {\n",
              "      let quickchartButtonEl =\n",
              "        document.querySelector('#df-81fec421-7332-44ba-87d4-40d0f3fa258a button');\n",
              "      quickchartButtonEl.style.display =\n",
              "        google.colab.kernel.accessAllowed ? 'block' : 'none';\n",
              "    })();\n",
              "  </script>\n",
              "</div>\n",
              "    </div>\n",
              "  </div>\n"
            ]
          },
          "metadata": {},
          "execution_count": 5
        }
      ]
    },
    {
      "cell_type": "markdown",
      "source": [
        "**Pré Processamento**"
      ],
      "metadata": {
        "id": "lNMMyUCLgNF7"
      }
    },
    {
      "cell_type": "code",
      "source": [
        "print(\"Dados e Valores: \")\n",
        "\n",
        "all_data.info()"
      ],
      "metadata": {
        "colab": {
          "base_uri": "https://localhost:8080/"
        },
        "id": "fLJJZ0cqZ3et",
        "outputId": "a8859f55-8afe-46f3-8ef2-7cc114ee29d1"
      },
      "execution_count": 6,
      "outputs": [
        {
          "output_type": "stream",
          "name": "stdout",
          "text": [
            "Dados e Valores: \n",
            "<class 'pandas.core.frame.DataFrame'>\n",
            "RangeIndex: 116599 entries, 0 to 116598\n",
            "Data columns (total 11 columns):\n",
            " #   Column               Non-Null Count   Dtype \n",
            "---  ------               --------------   ----- \n",
            " 0   ANO_BO               116599 non-null  int64 \n",
            " 1   DATAOCORRENCIA       116599 non-null  object\n",
            " 2   PERIDOOCORRENCIA     116599 non-null  object\n",
            " 3   LOGRADOURO           110975 non-null  object\n",
            " 4   BAIRRO               113449 non-null  object\n",
            " 5   CIDADE               116521 non-null  object\n",
            " 6   LATITUDE             107338 non-null  object\n",
            " 7   LONGITUDE            107338 non-null  object\n",
            " 8   DESCRICAOLOCAL       116599 non-null  object\n",
            " 9   DESCR_MARCA_VEICULO  82346 non-null   object\n",
            " 10  DESCR_TIPO_VEICULO   82219 non-null   object\n",
            "dtypes: int64(1), object(10)\n",
            "memory usage: 9.8+ MB\n"
          ]
        }
      ]
    },
    {
      "cell_type": "markdown",
      "source": [
        "**Remoção duplicidade**"
      ],
      "metadata": {
        "id": "JBwqfCPagTSd"
      }
    },
    {
      "cell_type": "code",
      "source": [
        "def remocaoduplicados(df):\n",
        "\n",
        "    print('Quantidade duplicados: ', df.duplicated().sum())\n",
        "    df.drop_duplicates(inplace=True)\n",
        "    print('Quantidade duplicados após remoção: ', df.duplicated().sum())\n",
        "\n",
        "    return df\n",
        "\n",
        "all_data = remocaoduplicados(all_data)"
      ],
      "metadata": {
        "colab": {
          "base_uri": "https://localhost:8080/"
        },
        "id": "OY8xl3UYZ8FQ",
        "outputId": "aba0e86e-553b-45f6-e10f-42e1228dc235"
      },
      "execution_count": 7,
      "outputs": [
        {
          "output_type": "stream",
          "name": "stdout",
          "text": [
            "Quantidade duplicados:  58248\n",
            "Quantidade duplicados após remoção:  0\n"
          ]
        }
      ]
    },
    {
      "cell_type": "markdown",
      "source": [
        "**Filtro Cidade SP**"
      ],
      "metadata": {
        "id": "jaPwTRRJgYOE"
      }
    },
    {
      "cell_type": "code",
      "source": [
        "def filtroSP(df):\n",
        "\n",
        "    df.CIDADE.fillna('S.PAULO')\n",
        "    df = df[df['CIDADE'] == 'S.PAULO']\n",
        "    del df['CIDADE']\n",
        "\n",
        "    return df\n",
        "\n",
        "all_data = filtroSP(all_data)"
      ],
      "metadata": {
        "id": "PmCAm0_0Z_8P"
      },
      "execution_count": 8,
      "outputs": []
    },
    {
      "cell_type": "markdown",
      "source": [
        "**Ajuste String**"
      ],
      "metadata": {
        "id": "SACt8oQnghrT"
      }
    },
    {
      "cell_type": "code",
      "source": [
        "def lCase(df, cols):\n",
        "    for col in cols:\n",
        "        df[col] = df[col].str.title()\n",
        "\n",
        "    return df\n",
        "\n",
        "colsToLower = [\"PERIDOOCORRENCIA\", \"LOGRADOURO\", \"BAIRRO\", \"DESCRICAOLOCAL\", \"DESCR_TIPO_VEICULO\"]\n",
        "\n",
        "all_data = lCase(all_data, colsToLower)"
      ],
      "metadata": {
        "id": "hmCAVE2qbWVr"
      },
      "execution_count": 9,
      "outputs": []
    },
    {
      "cell_type": "markdown",
      "source": [
        "**Padrão Strings**"
      ],
      "metadata": {
        "id": "AG_O2oyLgsI-"
      }
    },
    {
      "cell_type": "code",
      "source": [
        "def ajuste_string(string):\n",
        "        string = string.replace('Avenida ', 'Av. ').replace('Av ', 'Av. ').replace('Rua ', 'R. ').replace('R ', 'R. ')                     .replace('R ', 'R. ').replace(',', '.').replace('Praça ', 'Pr. ').replace('Pr ', 'Pr. ')                     .replace('Pública', 'pública').replace('Jardim', 'Jd.').replace('Jd ', 'Jd. ')\n",
        "        return string\n",
        "\n",
        "all_data.DESCRICAOLOCAL = all_data.astype(str).DESCRICAOLOCAL.apply(str)\n",
        "all_data.LOGRADOURO = all_data.astype(str).LOGRADOURO.apply(str)\n",
        "all_data.LATITUDE = all_data.LATITUDE.str.replace(',','.').astype(float)\n",
        "all_data.LONGITUDE = all_data.LONGITUDE.str.replace(',','.').astype(float)"
      ],
      "metadata": {
        "id": "ahz-a1bTgrdk"
      },
      "execution_count": null,
      "outputs": []
    },
    {
      "cell_type": "markdown",
      "source": [
        "**Categoria Veículo**"
      ],
      "metadata": {
        "id": "jae6EtTyg1t1"
      }
    },
    {
      "cell_type": "code",
      "source": [
        "all_data.loc[(all_data['DESCR_TIPO_VEICULO'] == \"MOTONETA\") | (all_data['DESCR_TIPO_VEICULO'] == \"MOTOCICLO\") | (all_data['DESCR_TIPO_VEICULO'] == \"CICLOMOTO\"),'TIPO_VEICULO'] = \"MOTO\"\n",
        "all_data.loc[(all_data['DESCR_TIPO_VEICULO'] == \"CAMINHONETE\") | (all_data['DESCR_TIPO_VEICULO'] == \"CAMIONETA\") | (all_data['DESCR_TIPO_VEICULO'] == \"UTILIT?RIO\") | (all_data['DESCR_TIPO_VEICULO'] == \"AUTOMOVEL\"),'TIPO_VEICULO'] = \"AUTOMOVEL\"\n",
        "all_data.loc[(all_data['DESCR_TIPO_VEICULO'] == \"CAMINH?O\") | (all_data['DESCR_TIPO_VEICULO'] == \"CAMINH?O TRATOR\") | (all_data['DESCR_TIPO_VEICULO'] == \"SEMI-REBOQUE\") | (all_data['DESCR_TIPO_VEICULO'] == \"REBOQUE\"),'TIPO_VEICULO'] = \"CAMINHAO\"\n",
        "all_data.loc[(all_data['DESCR_TIPO_VEICULO'] == \"MICRO-ONIBUS\") | (all_data['DESCR_TIPO_VEICULO'] == \"ONIBUS\"),'TIPO_VEICULO'] = \"ONIBUS\"\n",
        "all_data.loc[(all_data['TIPO_VEICULO'].isnull()) & (all_data['DESCR_TIPO_VEICULO'].notnull()),'TIPO_VEICULO'] = \"OUTROS\"\n"
      ],
      "metadata": {
        "id": "CfKiMD1Rbcin"
      },
      "execution_count": 10,
      "outputs": []
    },
    {
      "cell_type": "markdown",
      "source": [
        "**Limpeza nome Veículo**"
      ],
      "metadata": {
        "id": "q1MgKAing-Kz"
      }
    },
    {
      "cell_type": "code",
      "source": [
        "all_data.loc[(all_data['DESCR_MARCA_VEICULO'].str[0:2] == \"I/\") | (all_data['DESCR_MARCA_VEICULO'].str[0:2] == \"H/\") | (all_data['DESCR_MARCA_VEICULO'].str[0:2] == \"R/\"),'DESCR_MARCA_VEICULO'] = all_data['DESCR_MARCA_VEICULO'].str[2:]\n",
        "all_data.loc[all_data['DESCR_MARCA_VEICULO'].str[0:4] == \"IMP/\",'DESCR_MARCA_VEICULO'] = all_data['DESCR_MARCA_VEICULO'].str[4:]\n",
        "all_data.loc[:,'DESCR_MARCA_VEICULO'] = all_data['DESCR_MARCA_VEICULO'].str.replace(\"NOVO \",\"\")\n",
        "all_data.loc[:,'DESCR_MARCA_VEICULO'] = all_data['DESCR_MARCA_VEICULO'].str.replace(\"NOVA \",\"\")\n"
      ],
      "metadata": {
        "id": "iJlL_lGXbiMr"
      },
      "execution_count": 11,
      "outputs": []
    },
    {
      "cell_type": "markdown",
      "source": [
        "**Criando Marca e Modelo**"
      ],
      "metadata": {
        "id": "1IK7jSTthE38"
      }
    },
    {
      "cell_type": "code",
      "source": [
        "all_data['MARCA'] = all_data['DESCR_MARCA_VEICULO'].str.split(\"/\", expand=True)[0].str.split(\" \", expand=True)[0]\n",
        "all_data['MODELO'] = all_data['DESCR_MARCA_VEICULO'].str.split(\"/\", expand=True)[1].str.split(\" \", expand=True)[0]\n",
        "all_data.loc[all_data.MODELO == 'VW','MODELO'] = all_data['DESCR_MARCA_VEICULO'].str.split(\"/\", expand=True)[1].str.split(\" \", expand=True)[1]\n"
      ],
      "metadata": {
        "id": "TasdJKBsbmVD"
      },
      "execution_count": 12,
      "outputs": []
    },
    {
      "cell_type": "markdown",
      "source": [
        "**Ajustando variações Marca**"
      ],
      "metadata": {
        "id": "0r4jts8yhPZN"
      }
    },
    {
      "cell_type": "code",
      "source": [
        "all_data.loc[all_data['MARCA'] == \"CHEV\",'MARCA'] = \"CHEVROLET\"\n",
        "all_data.loc[all_data['MARCA'] == \"GM\",'MARCA'] = \"CHEVROLET\"\n",
        "all_data.loc[(all_data['MARCA'] == \"VOLKS\") | (all_data['MARCA'] == \"VOLKSWAGEN\") | (all_data['MARCA'] == \"VOLKSWAGEM\"),'MARCA'] = \"VW\"\n",
        "all_data.loc[(all_data['MARCA'] == \"M.B.\") | (all_data['MARCA'] == \"MBENZ\") | (all_data['MARCA'] == \"MERCEDES\"),'MARCA'] = \"M.BENZ\"\n",
        "all_data.loc[all_data['MARCA'] == \"MMC\",'MARCA'] = \"MITSUBISHI\"\n",
        "all_data.loc[all_data['MARCA'] == \"IVECOFIAT\",'MARCA'] = \"IVECO\"\n",
        "all_data.loc[(all_data['MARCA'] == \"LR\") | (all_data['MARCA'] == \"LROVER\"),'MARCA'] = \"LAND ROVER\"\n"
      ],
      "metadata": {
        "id": "3YHVqZpOebGs"
      },
      "execution_count": 13,
      "outputs": []
    },
    {
      "cell_type": "markdown",
      "source": [
        "**Dados Temporais**"
      ],
      "metadata": {
        "id": "eEVvlnYqhWdU"
      }
    },
    {
      "cell_type": "code",
      "source": [
        "def ajusteData(df, col = 'DATAOCORRENCIA'):\n",
        "    df[col] = pd.to_datetime(df[col], format='%d/%m/%Y', errors='coerce')\n",
        "\n",
        "    indexs = []\n",
        "\n",
        "    for row in df[col].items():\n",
        "        if row[1] < pd.datetime(2010, 1, 1):\n",
        "            indexs.append(row[0])\n",
        "\n",
        "    df.drop(index=indexs, axis=1, inplace=True)\n",
        "\n",
        "    df['DIA_SEMANA'] = df[col].dt.weekday\n",
        "    df['MES_ANO'] = df[col].dt.strftime('%Y-%m')\n",
        "    df['MES'] = df[col].dt.month\n",
        "\n",
        "    df.drop(index=df[df['MES_ANO'] == 'NaT'].index, inplace=True, axis=0)\n",
        "\n",
        "    return df\n",
        "\n",
        "all_data = ajusteData(all_data)"
      ],
      "metadata": {
        "id": "eTV53nkDemUM"
      },
      "execution_count": 15,
      "outputs": []
    },
    {
      "cell_type": "markdown",
      "source": [
        "**Análise Exploratória**"
      ],
      "metadata": {
        "id": "MnuVSnIphlzE"
      }
    },
    {
      "cell_type": "markdown",
      "source": [
        "Visualizando DataFrame"
      ],
      "metadata": {
        "id": "xZMafBrkhxG9"
      }
    },
    {
      "cell_type": "code",
      "source": [
        "all_data.head()"
      ],
      "metadata": {
        "colab": {
          "base_uri": "https://localhost:8080/",
          "height": 365
        },
        "id": "KHHEBdoEfDMt",
        "outputId": "b514744a-a9e6-44c4-a570-81f58b87a02a"
      },
      "execution_count": 17,
      "outputs": [
        {
          "output_type": "execute_result",
          "data": {
            "text/plain": [
              "   ANO_BO DATAOCORRENCIA PERIDOOCORRENCIA                    LOGRADOURO  \\\n",
              "0    2022     2021-12-31          A Noite          Rua Padre Pedro Rota   \n",
              "1    2021     2021-12-31          A Noite                Rua Erva Botão   \n",
              "3    2022     2021-12-31          A Noite  Rua Antonio De Camargo Ortis   \n",
              "5    2022     2021-12-31          A Noite             Avenida Sapopemba   \n",
              "7    2022     2021-12-31          A Noite    Avenida Almirante Delamare   \n",
              "\n",
              "            BAIRRO   LATITUDE  LONGITUDE DESCRICAOLOCAL  \\\n",
              "0        Sao Lucas -23.592095 -46.551417    Via Pública   \n",
              "1  Jardim Dos Ipes -23.502592 -46.414723         Outros   \n",
              "3   Itaim Paulista -23.499228 -46.379238    Via Pública   \n",
              "5        Sapopemba -23.610180 -46.484955    Via Pública   \n",
              "7           Sacoma -23.602919 -46.597583    Via Pública   \n",
              "\n",
              "       DESCR_MARCA_VEICULO DESCR_TIPO_VEICULO TIPO_VEICULO    MARCA MODELO  \\\n",
              "0     PEUGEOT 307 16 PR PK          Automovel       OUTROS  PEUGEOT   None   \n",
              "1      FORD/KA SE 1.0 HA C          Automovel       OUTROS     FORD     KA   \n",
              "3    HYUNDAI TUCSON GL 20L          Automovel       OUTROS  HYUNDAI   None   \n",
              "5           FIAT/PALIO ELX          Automovel       OUTROS     FIAT  PALIO   \n",
              "7  NISSAN/KICKS ACTIVE CVT          Automovel       OUTROS   NISSAN  KICKS   \n",
              "\n",
              "   DIA_SEMANA  MES_ANO  MES  \n",
              "0           4  2021-12   12  \n",
              "1           4  2021-12   12  \n",
              "3           4  2021-12   12  \n",
              "5           4  2021-12   12  \n",
              "7           4  2021-12   12  "
            ],
            "text/html": [
              "\n",
              "  <div id=\"df-c99cd8bd-fb78-43b3-a322-6edfa552fc51\" class=\"colab-df-container\">\n",
              "    <div>\n",
              "<style scoped>\n",
              "    .dataframe tbody tr th:only-of-type {\n",
              "        vertical-align: middle;\n",
              "    }\n",
              "\n",
              "    .dataframe tbody tr th {\n",
              "        vertical-align: top;\n",
              "    }\n",
              "\n",
              "    .dataframe thead th {\n",
              "        text-align: right;\n",
              "    }\n",
              "</style>\n",
              "<table border=\"1\" class=\"dataframe\">\n",
              "  <thead>\n",
              "    <tr style=\"text-align: right;\">\n",
              "      <th></th>\n",
              "      <th>ANO_BO</th>\n",
              "      <th>DATAOCORRENCIA</th>\n",
              "      <th>PERIDOOCORRENCIA</th>\n",
              "      <th>LOGRADOURO</th>\n",
              "      <th>BAIRRO</th>\n",
              "      <th>LATITUDE</th>\n",
              "      <th>LONGITUDE</th>\n",
              "      <th>DESCRICAOLOCAL</th>\n",
              "      <th>DESCR_MARCA_VEICULO</th>\n",
              "      <th>DESCR_TIPO_VEICULO</th>\n",
              "      <th>TIPO_VEICULO</th>\n",
              "      <th>MARCA</th>\n",
              "      <th>MODELO</th>\n",
              "      <th>DIA_SEMANA</th>\n",
              "      <th>MES_ANO</th>\n",
              "      <th>MES</th>\n",
              "    </tr>\n",
              "  </thead>\n",
              "  <tbody>\n",
              "    <tr>\n",
              "      <th>0</th>\n",
              "      <td>2022</td>\n",
              "      <td>2021-12-31</td>\n",
              "      <td>A Noite</td>\n",
              "      <td>Rua Padre Pedro Rota</td>\n",
              "      <td>Sao Lucas</td>\n",
              "      <td>-23.592095</td>\n",
              "      <td>-46.551417</td>\n",
              "      <td>Via Pública</td>\n",
              "      <td>PEUGEOT 307 16 PR PK</td>\n",
              "      <td>Automovel</td>\n",
              "      <td>OUTROS</td>\n",
              "      <td>PEUGEOT</td>\n",
              "      <td>None</td>\n",
              "      <td>4</td>\n",
              "      <td>2021-12</td>\n",
              "      <td>12</td>\n",
              "    </tr>\n",
              "    <tr>\n",
              "      <th>1</th>\n",
              "      <td>2021</td>\n",
              "      <td>2021-12-31</td>\n",
              "      <td>A Noite</td>\n",
              "      <td>Rua Erva Botão</td>\n",
              "      <td>Jardim Dos Ipes</td>\n",
              "      <td>-23.502592</td>\n",
              "      <td>-46.414723</td>\n",
              "      <td>Outros</td>\n",
              "      <td>FORD/KA SE 1.0 HA C</td>\n",
              "      <td>Automovel</td>\n",
              "      <td>OUTROS</td>\n",
              "      <td>FORD</td>\n",
              "      <td>KA</td>\n",
              "      <td>4</td>\n",
              "      <td>2021-12</td>\n",
              "      <td>12</td>\n",
              "    </tr>\n",
              "    <tr>\n",
              "      <th>3</th>\n",
              "      <td>2022</td>\n",
              "      <td>2021-12-31</td>\n",
              "      <td>A Noite</td>\n",
              "      <td>Rua Antonio De Camargo Ortis</td>\n",
              "      <td>Itaim Paulista</td>\n",
              "      <td>-23.499228</td>\n",
              "      <td>-46.379238</td>\n",
              "      <td>Via Pública</td>\n",
              "      <td>HYUNDAI TUCSON GL 20L</td>\n",
              "      <td>Automovel</td>\n",
              "      <td>OUTROS</td>\n",
              "      <td>HYUNDAI</td>\n",
              "      <td>None</td>\n",
              "      <td>4</td>\n",
              "      <td>2021-12</td>\n",
              "      <td>12</td>\n",
              "    </tr>\n",
              "    <tr>\n",
              "      <th>5</th>\n",
              "      <td>2022</td>\n",
              "      <td>2021-12-31</td>\n",
              "      <td>A Noite</td>\n",
              "      <td>Avenida Sapopemba</td>\n",
              "      <td>Sapopemba</td>\n",
              "      <td>-23.610180</td>\n",
              "      <td>-46.484955</td>\n",
              "      <td>Via Pública</td>\n",
              "      <td>FIAT/PALIO ELX</td>\n",
              "      <td>Automovel</td>\n",
              "      <td>OUTROS</td>\n",
              "      <td>FIAT</td>\n",
              "      <td>PALIO</td>\n",
              "      <td>4</td>\n",
              "      <td>2021-12</td>\n",
              "      <td>12</td>\n",
              "    </tr>\n",
              "    <tr>\n",
              "      <th>7</th>\n",
              "      <td>2022</td>\n",
              "      <td>2021-12-31</td>\n",
              "      <td>A Noite</td>\n",
              "      <td>Avenida Almirante Delamare</td>\n",
              "      <td>Sacoma</td>\n",
              "      <td>-23.602919</td>\n",
              "      <td>-46.597583</td>\n",
              "      <td>Via Pública</td>\n",
              "      <td>NISSAN/KICKS ACTIVE CVT</td>\n",
              "      <td>Automovel</td>\n",
              "      <td>OUTROS</td>\n",
              "      <td>NISSAN</td>\n",
              "      <td>KICKS</td>\n",
              "      <td>4</td>\n",
              "      <td>2021-12</td>\n",
              "      <td>12</td>\n",
              "    </tr>\n",
              "  </tbody>\n",
              "</table>\n",
              "</div>\n",
              "    <div class=\"colab-df-buttons\">\n",
              "\n",
              "  <div class=\"colab-df-container\">\n",
              "    <button class=\"colab-df-convert\" onclick=\"convertToInteractive('df-c99cd8bd-fb78-43b3-a322-6edfa552fc51')\"\n",
              "            title=\"Convert this dataframe to an interactive table.\"\n",
              "            style=\"display:none;\">\n",
              "\n",
              "  <svg xmlns=\"http://www.w3.org/2000/svg\" height=\"24px\" viewBox=\"0 -960 960 960\">\n",
              "    <path d=\"M120-120v-720h720v720H120Zm60-500h600v-160H180v160Zm220 220h160v-160H400v160Zm0 220h160v-160H400v160ZM180-400h160v-160H180v160Zm440 0h160v-160H620v160ZM180-180h160v-160H180v160Zm440 0h160v-160H620v160Z\"/>\n",
              "  </svg>\n",
              "    </button>\n",
              "\n",
              "  <style>\n",
              "    .colab-df-container {\n",
              "      display:flex;\n",
              "      gap: 12px;\n",
              "    }\n",
              "\n",
              "    .colab-df-convert {\n",
              "      background-color: #E8F0FE;\n",
              "      border: none;\n",
              "      border-radius: 50%;\n",
              "      cursor: pointer;\n",
              "      display: none;\n",
              "      fill: #1967D2;\n",
              "      height: 32px;\n",
              "      padding: 0 0 0 0;\n",
              "      width: 32px;\n",
              "    }\n",
              "\n",
              "    .colab-df-convert:hover {\n",
              "      background-color: #E2EBFA;\n",
              "      box-shadow: 0px 1px 2px rgba(60, 64, 67, 0.3), 0px 1px 3px 1px rgba(60, 64, 67, 0.15);\n",
              "      fill: #174EA6;\n",
              "    }\n",
              "\n",
              "    .colab-df-buttons div {\n",
              "      margin-bottom: 4px;\n",
              "    }\n",
              "\n",
              "    [theme=dark] .colab-df-convert {\n",
              "      background-color: #3B4455;\n",
              "      fill: #D2E3FC;\n",
              "    }\n",
              "\n",
              "    [theme=dark] .colab-df-convert:hover {\n",
              "      background-color: #434B5C;\n",
              "      box-shadow: 0px 1px 3px 1px rgba(0, 0, 0, 0.15);\n",
              "      filter: drop-shadow(0px 1px 2px rgba(0, 0, 0, 0.3));\n",
              "      fill: #FFFFFF;\n",
              "    }\n",
              "  </style>\n",
              "\n",
              "    <script>\n",
              "      const buttonEl =\n",
              "        document.querySelector('#df-c99cd8bd-fb78-43b3-a322-6edfa552fc51 button.colab-df-convert');\n",
              "      buttonEl.style.display =\n",
              "        google.colab.kernel.accessAllowed ? 'block' : 'none';\n",
              "\n",
              "      async function convertToInteractive(key) {\n",
              "        const element = document.querySelector('#df-c99cd8bd-fb78-43b3-a322-6edfa552fc51');\n",
              "        const dataTable =\n",
              "          await google.colab.kernel.invokeFunction('convertToInteractive',\n",
              "                                                    [key], {});\n",
              "        if (!dataTable) return;\n",
              "\n",
              "        const docLinkHtml = 'Like what you see? Visit the ' +\n",
              "          '<a target=\"_blank\" href=https://colab.research.google.com/notebooks/data_table.ipynb>data table notebook</a>'\n",
              "          + ' to learn more about interactive tables.';\n",
              "        element.innerHTML = '';\n",
              "        dataTable['output_type'] = 'display_data';\n",
              "        await google.colab.output.renderOutput(dataTable, element);\n",
              "        const docLink = document.createElement('div');\n",
              "        docLink.innerHTML = docLinkHtml;\n",
              "        element.appendChild(docLink);\n",
              "      }\n",
              "    </script>\n",
              "  </div>\n",
              "\n",
              "\n",
              "<div id=\"df-25781dbd-7ced-4d20-8b9f-b2e189dcb286\">\n",
              "  <button class=\"colab-df-quickchart\" onclick=\"quickchart('df-25781dbd-7ced-4d20-8b9f-b2e189dcb286')\"\n",
              "            title=\"Suggest charts.\"\n",
              "            style=\"display:none;\">\n",
              "\n",
              "<svg xmlns=\"http://www.w3.org/2000/svg\" height=\"24px\"viewBox=\"0 0 24 24\"\n",
              "     width=\"24px\">\n",
              "    <g>\n",
              "        <path d=\"M19 3H5c-1.1 0-2 .9-2 2v14c0 1.1.9 2 2 2h14c1.1 0 2-.9 2-2V5c0-1.1-.9-2-2-2zM9 17H7v-7h2v7zm4 0h-2V7h2v10zm4 0h-2v-4h2v4z\"/>\n",
              "    </g>\n",
              "</svg>\n",
              "  </button>\n",
              "\n",
              "<style>\n",
              "  .colab-df-quickchart {\n",
              "      --bg-color: #E8F0FE;\n",
              "      --fill-color: #1967D2;\n",
              "      --hover-bg-color: #E2EBFA;\n",
              "      --hover-fill-color: #174EA6;\n",
              "      --disabled-fill-color: #AAA;\n",
              "      --disabled-bg-color: #DDD;\n",
              "  }\n",
              "\n",
              "  [theme=dark] .colab-df-quickchart {\n",
              "      --bg-color: #3B4455;\n",
              "      --fill-color: #D2E3FC;\n",
              "      --hover-bg-color: #434B5C;\n",
              "      --hover-fill-color: #FFFFFF;\n",
              "      --disabled-bg-color: #3B4455;\n",
              "      --disabled-fill-color: #666;\n",
              "  }\n",
              "\n",
              "  .colab-df-quickchart {\n",
              "    background-color: var(--bg-color);\n",
              "    border: none;\n",
              "    border-radius: 50%;\n",
              "    cursor: pointer;\n",
              "    display: none;\n",
              "    fill: var(--fill-color);\n",
              "    height: 32px;\n",
              "    padding: 0;\n",
              "    width: 32px;\n",
              "  }\n",
              "\n",
              "  .colab-df-quickchart:hover {\n",
              "    background-color: var(--hover-bg-color);\n",
              "    box-shadow: 0 1px 2px rgba(60, 64, 67, 0.3), 0 1px 3px 1px rgba(60, 64, 67, 0.15);\n",
              "    fill: var(--button-hover-fill-color);\n",
              "  }\n",
              "\n",
              "  .colab-df-quickchart-complete:disabled,\n",
              "  .colab-df-quickchart-complete:disabled:hover {\n",
              "    background-color: var(--disabled-bg-color);\n",
              "    fill: var(--disabled-fill-color);\n",
              "    box-shadow: none;\n",
              "  }\n",
              "\n",
              "  .colab-df-spinner {\n",
              "    border: 2px solid var(--fill-color);\n",
              "    border-color: transparent;\n",
              "    border-bottom-color: var(--fill-color);\n",
              "    animation:\n",
              "      spin 1s steps(1) infinite;\n",
              "  }\n",
              "\n",
              "  @keyframes spin {\n",
              "    0% {\n",
              "      border-color: transparent;\n",
              "      border-bottom-color: var(--fill-color);\n",
              "      border-left-color: var(--fill-color);\n",
              "    }\n",
              "    20% {\n",
              "      border-color: transparent;\n",
              "      border-left-color: var(--fill-color);\n",
              "      border-top-color: var(--fill-color);\n",
              "    }\n",
              "    30% {\n",
              "      border-color: transparent;\n",
              "      border-left-color: var(--fill-color);\n",
              "      border-top-color: var(--fill-color);\n",
              "      border-right-color: var(--fill-color);\n",
              "    }\n",
              "    40% {\n",
              "      border-color: transparent;\n",
              "      border-right-color: var(--fill-color);\n",
              "      border-top-color: var(--fill-color);\n",
              "    }\n",
              "    60% {\n",
              "      border-color: transparent;\n",
              "      border-right-color: var(--fill-color);\n",
              "    }\n",
              "    80% {\n",
              "      border-color: transparent;\n",
              "      border-right-color: var(--fill-color);\n",
              "      border-bottom-color: var(--fill-color);\n",
              "    }\n",
              "    90% {\n",
              "      border-color: transparent;\n",
              "      border-bottom-color: var(--fill-color);\n",
              "    }\n",
              "  }\n",
              "</style>\n",
              "\n",
              "  <script>\n",
              "    async function quickchart(key) {\n",
              "      const quickchartButtonEl =\n",
              "        document.querySelector('#' + key + ' button');\n",
              "      quickchartButtonEl.disabled = true;  // To prevent multiple clicks.\n",
              "      quickchartButtonEl.classList.add('colab-df-spinner');\n",
              "      try {\n",
              "        const charts = await google.colab.kernel.invokeFunction(\n",
              "            'suggestCharts', [key], {});\n",
              "      } catch (error) {\n",
              "        console.error('Error during call to suggestCharts:', error);\n",
              "      }\n",
              "      quickchartButtonEl.classList.remove('colab-df-spinner');\n",
              "      quickchartButtonEl.classList.add('colab-df-quickchart-complete');\n",
              "    }\n",
              "    (() => {\n",
              "      let quickchartButtonEl =\n",
              "        document.querySelector('#df-25781dbd-7ced-4d20-8b9f-b2e189dcb286 button');\n",
              "      quickchartButtonEl.style.display =\n",
              "        google.colab.kernel.accessAllowed ? 'block' : 'none';\n",
              "    })();\n",
              "  </script>\n",
              "</div>\n",
              "    </div>\n",
              "  </div>\n"
            ]
          },
          "metadata": {},
          "execution_count": 17
        }
      ]
    },
    {
      "cell_type": "code",
      "source": [
        "df_ts = all_data.groupby('DATAOCORRENCIA').count()[\"ANO_BO\"].to_frame().rename(columns={\"ANO_BO\": \"OCORRENCIAS\"})\n",
        "\n",
        "trace = [go.Scatter(x = df_ts.index, y = df_ts.OCORRENCIAS)]\n",
        "\n",
        "layout = dict(\n",
        "    title='Ocorrências Roubo de Veículo',\n",
        "    xaxis=dict(\n",
        "        rangeselector=dict(\n",
        "            buttons=list([\n",
        "                dict(count=12,\n",
        "                     label='1yr',\n",
        "                     step='month',\n",
        "                     stepmode='backward'),\n",
        "                dict(count=6,\n",
        "                     label='6m',\n",
        "                     step='month',\n",
        "                     stepmode='backward'),\n",
        "                dict(step='all')\n",
        "            ])\n",
        "        ),\n",
        "        rangeslider=dict(\n",
        "            visible = True\n",
        "        ),\n",
        "        type='date'\n",
        "    )\n",
        ")\n",
        "\n",
        "fig = dict(data=trace, layout=layout)\n",
        "py.iplot(fig)"
      ],
      "metadata": {
        "colab": {
          "base_uri": "https://localhost:8080/",
          "height": 542
        },
        "id": "oYE-OlA0htsb",
        "outputId": "1c06e39a-710d-468a-efd7-e08b7924a35d"
      },
      "execution_count": 18,
      "outputs": [
        {
          "output_type": "display_data",
          "data": {
            "application/vnd.plotly.v1+json": {
              "data": [
                {
                  "x": [
                    "2010-03-10T00:00:00",
                    "2010-09-19T00:00:00",
                    "2010-11-15T00:00:00",
                    "2011-02-16T00:00:00",
                    "2011-03-22T00:00:00",
                    "2011-11-12T00:00:00",
                    "2012-11-04T00:00:00",
                    "2014-07-22T00:00:00",
                    "2016-04-02T00:00:00",
                    "2016-08-10T00:00:00",
                    "2016-11-23T00:00:00",
                    "2018-04-04T00:00:00",
                    "2018-12-04T00:00:00",
                    "2019-01-15T00:00:00",
                    "2019-01-18T00:00:00",
                    "2019-04-01T00:00:00",
                    "2019-11-12T00:00:00",
                    "2020-01-08T00:00:00",
                    "2020-02-04T00:00:00",
                    "2020-02-08T00:00:00",
                    "2020-02-10T00:00:00",
                    "2020-03-13T00:00:00",
                    "2020-04-02T00:00:00",
                    "2020-04-26T00:00:00",
                    "2020-05-09T00:00:00",
                    "2020-07-14T00:00:00",
                    "2020-08-14T00:00:00",
                    "2020-08-20T00:00:00",
                    "2020-11-17T00:00:00",
                    "2021-01-04T00:00:00",
                    "2021-01-09T00:00:00",
                    "2021-01-12T00:00:00",
                    "2021-01-21T00:00:00",
                    "2021-01-27T00:00:00",
                    "2021-02-02T00:00:00",
                    "2021-02-07T00:00:00",
                    "2021-02-13T00:00:00",
                    "2021-02-14T00:00:00",
                    "2021-02-18T00:00:00",
                    "2021-03-05T00:00:00",
                    "2021-03-14T00:00:00",
                    "2021-03-31T00:00:00",
                    "2021-04-18T00:00:00",
                    "2021-04-20T00:00:00",
                    "2021-04-23T00:00:00",
                    "2021-05-14T00:00:00",
                    "2021-06-13T00:00:00",
                    "2021-06-22T00:00:00",
                    "2021-06-25T00:00:00",
                    "2021-07-16T00:00:00",
                    "2021-08-01T00:00:00",
                    "2021-08-05T00:00:00",
                    "2021-09-16T00:00:00",
                    "2021-09-18T00:00:00",
                    "2021-09-23T00:00:00",
                    "2021-09-24T00:00:00",
                    "2021-09-26T00:00:00",
                    "2021-09-28T00:00:00",
                    "2021-09-29T00:00:00",
                    "2021-10-01T00:00:00",
                    "2021-10-05T00:00:00",
                    "2021-10-06T00:00:00",
                    "2021-10-16T00:00:00",
                    "2021-10-30T00:00:00",
                    "2021-11-03T00:00:00",
                    "2021-11-07T00:00:00",
                    "2021-11-10T00:00:00",
                    "2021-11-11T00:00:00",
                    "2021-11-15T00:00:00",
                    "2021-11-20T00:00:00",
                    "2021-11-22T00:00:00",
                    "2021-11-24T00:00:00",
                    "2021-11-25T00:00:00",
                    "2021-11-26T00:00:00",
                    "2021-11-27T00:00:00",
                    "2021-11-29T00:00:00",
                    "2021-11-30T00:00:00",
                    "2021-12-01T00:00:00",
                    "2021-12-02T00:00:00",
                    "2021-12-03T00:00:00",
                    "2021-12-05T00:00:00",
                    "2021-12-07T00:00:00",
                    "2021-12-09T00:00:00",
                    "2021-12-11T00:00:00",
                    "2021-12-12T00:00:00",
                    "2021-12-14T00:00:00",
                    "2021-12-16T00:00:00",
                    "2021-12-17T00:00:00",
                    "2021-12-18T00:00:00",
                    "2021-12-19T00:00:00",
                    "2021-12-20T00:00:00",
                    "2021-12-21T00:00:00",
                    "2021-12-22T00:00:00",
                    "2021-12-23T00:00:00",
                    "2021-12-24T00:00:00",
                    "2021-12-25T00:00:00",
                    "2021-12-26T00:00:00",
                    "2021-12-27T00:00:00",
                    "2021-12-28T00:00:00",
                    "2021-12-29T00:00:00",
                    "2021-12-30T00:00:00",
                    "2021-12-31T00:00:00",
                    "2022-01-01T00:00:00",
                    "2022-01-02T00:00:00",
                    "2022-01-03T00:00:00",
                    "2022-01-04T00:00:00",
                    "2022-01-05T00:00:00",
                    "2022-01-06T00:00:00",
                    "2022-01-07T00:00:00",
                    "2022-01-08T00:00:00",
                    "2022-01-09T00:00:00",
                    "2022-01-10T00:00:00",
                    "2022-01-11T00:00:00",
                    "2022-01-12T00:00:00",
                    "2022-01-13T00:00:00",
                    "2022-01-14T00:00:00",
                    "2022-01-15T00:00:00",
                    "2022-01-16T00:00:00",
                    "2022-01-17T00:00:00",
                    "2022-01-18T00:00:00",
                    "2022-01-19T00:00:00",
                    "2022-01-20T00:00:00",
                    "2022-01-21T00:00:00",
                    "2022-01-22T00:00:00",
                    "2022-01-23T00:00:00",
                    "2022-01-24T00:00:00",
                    "2022-01-25T00:00:00",
                    "2022-01-26T00:00:00",
                    "2022-01-27T00:00:00",
                    "2022-01-28T00:00:00",
                    "2022-01-29T00:00:00",
                    "2022-01-30T00:00:00",
                    "2022-01-31T00:00:00",
                    "2022-02-01T00:00:00",
                    "2022-02-02T00:00:00",
                    "2022-02-03T00:00:00",
                    "2022-02-04T00:00:00",
                    "2022-02-05T00:00:00",
                    "2022-02-06T00:00:00",
                    "2022-02-07T00:00:00",
                    "2022-02-08T00:00:00",
                    "2022-02-09T00:00:00",
                    "2022-02-10T00:00:00",
                    "2022-02-11T00:00:00",
                    "2022-02-12T00:00:00",
                    "2022-02-13T00:00:00",
                    "2022-02-14T00:00:00",
                    "2022-02-15T00:00:00",
                    "2022-02-16T00:00:00",
                    "2022-02-17T00:00:00",
                    "2022-02-18T00:00:00",
                    "2022-02-19T00:00:00",
                    "2022-02-20T00:00:00",
                    "2022-02-21T00:00:00",
                    "2022-02-22T00:00:00",
                    "2022-02-23T00:00:00",
                    "2022-02-24T00:00:00",
                    "2022-02-25T00:00:00",
                    "2022-02-26T00:00:00",
                    "2022-02-27T00:00:00",
                    "2022-02-28T00:00:00",
                    "2022-03-01T00:00:00",
                    "2022-03-02T00:00:00",
                    "2022-03-03T00:00:00",
                    "2022-03-04T00:00:00",
                    "2022-03-05T00:00:00",
                    "2022-03-06T00:00:00",
                    "2022-03-07T00:00:00",
                    "2022-03-08T00:00:00",
                    "2022-03-09T00:00:00",
                    "2022-03-10T00:00:00",
                    "2022-03-11T00:00:00",
                    "2022-03-12T00:00:00",
                    "2022-03-13T00:00:00",
                    "2022-03-14T00:00:00",
                    "2022-03-15T00:00:00",
                    "2022-03-16T00:00:00",
                    "2022-03-17T00:00:00",
                    "2022-03-18T00:00:00",
                    "2022-03-19T00:00:00",
                    "2022-03-20T00:00:00",
                    "2022-03-21T00:00:00",
                    "2022-03-22T00:00:00",
                    "2022-03-23T00:00:00",
                    "2022-03-24T00:00:00",
                    "2022-03-25T00:00:00",
                    "2022-03-26T00:00:00",
                    "2022-03-27T00:00:00",
                    "2022-03-28T00:00:00",
                    "2022-03-29T00:00:00",
                    "2022-03-30T00:00:00",
                    "2022-03-31T00:00:00",
                    "2022-04-01T00:00:00",
                    "2022-04-02T00:00:00",
                    "2022-04-03T00:00:00",
                    "2022-04-04T00:00:00",
                    "2022-04-05T00:00:00",
                    "2022-04-06T00:00:00",
                    "2022-04-07T00:00:00",
                    "2022-04-08T00:00:00",
                    "2022-04-09T00:00:00",
                    "2022-04-10T00:00:00",
                    "2022-04-11T00:00:00",
                    "2022-04-12T00:00:00",
                    "2022-04-13T00:00:00",
                    "2022-04-14T00:00:00",
                    "2022-04-15T00:00:00",
                    "2022-04-16T00:00:00",
                    "2022-04-17T00:00:00",
                    "2022-04-18T00:00:00",
                    "2022-04-19T00:00:00",
                    "2022-04-20T00:00:00",
                    "2022-04-21T00:00:00",
                    "2022-04-22T00:00:00",
                    "2022-04-23T00:00:00",
                    "2022-04-24T00:00:00",
                    "2022-04-25T00:00:00",
                    "2022-04-26T00:00:00",
                    "2022-04-27T00:00:00",
                    "2022-04-28T00:00:00",
                    "2022-04-29T00:00:00",
                    "2022-04-30T00:00:00",
                    "2022-05-01T00:00:00",
                    "2022-05-02T00:00:00",
                    "2022-05-03T00:00:00",
                    "2022-05-04T00:00:00",
                    "2022-05-05T00:00:00",
                    "2022-05-06T00:00:00",
                    "2022-05-07T00:00:00",
                    "2022-05-08T00:00:00",
                    "2022-05-09T00:00:00",
                    "2022-05-10T00:00:00",
                    "2022-05-11T00:00:00",
                    "2022-05-12T00:00:00",
                    "2022-05-13T00:00:00",
                    "2022-05-14T00:00:00",
                    "2022-05-15T00:00:00",
                    "2022-05-16T00:00:00",
                    "2022-05-17T00:00:00",
                    "2022-05-18T00:00:00",
                    "2022-05-19T00:00:00",
                    "2022-05-20T00:00:00",
                    "2022-05-21T00:00:00",
                    "2022-05-22T00:00:00",
                    "2022-05-23T00:00:00",
                    "2022-05-24T00:00:00",
                    "2022-05-25T00:00:00",
                    "2022-05-26T00:00:00",
                    "2022-05-27T00:00:00",
                    "2022-05-28T00:00:00",
                    "2022-05-29T00:00:00",
                    "2022-05-30T00:00:00",
                    "2022-05-31T00:00:00",
                    "2022-06-01T00:00:00",
                    "2022-06-02T00:00:00",
                    "2022-06-03T00:00:00",
                    "2022-06-04T00:00:00",
                    "2022-06-05T00:00:00",
                    "2022-06-06T00:00:00",
                    "2022-06-07T00:00:00",
                    "2022-06-08T00:00:00",
                    "2022-06-09T00:00:00",
                    "2022-06-10T00:00:00",
                    "2022-06-11T00:00:00",
                    "2022-06-12T00:00:00",
                    "2022-06-13T00:00:00",
                    "2022-06-14T00:00:00",
                    "2022-06-15T00:00:00",
                    "2022-06-16T00:00:00",
                    "2022-06-17T00:00:00",
                    "2022-06-18T00:00:00",
                    "2022-06-19T00:00:00",
                    "2022-06-20T00:00:00",
                    "2022-06-21T00:00:00",
                    "2022-06-22T00:00:00",
                    "2022-06-23T00:00:00",
                    "2022-06-24T00:00:00",
                    "2022-06-25T00:00:00",
                    "2022-06-26T00:00:00",
                    "2022-06-27T00:00:00",
                    "2022-06-28T00:00:00",
                    "2022-06-29T00:00:00",
                    "2022-06-30T00:00:00",
                    "2022-07-01T00:00:00",
                    "2022-07-02T00:00:00",
                    "2022-07-03T00:00:00",
                    "2022-07-04T00:00:00",
                    "2022-07-05T00:00:00",
                    "2022-07-06T00:00:00",
                    "2022-07-07T00:00:00",
                    "2022-07-08T00:00:00",
                    "2022-07-09T00:00:00",
                    "2022-07-10T00:00:00",
                    "2022-07-11T00:00:00",
                    "2022-07-12T00:00:00",
                    "2022-07-13T00:00:00",
                    "2022-07-14T00:00:00",
                    "2022-07-15T00:00:00",
                    "2022-07-16T00:00:00",
                    "2022-07-17T00:00:00",
                    "2022-07-18T00:00:00",
                    "2022-07-19T00:00:00",
                    "2022-07-20T00:00:00",
                    "2022-07-21T00:00:00",
                    "2022-07-22T00:00:00",
                    "2022-07-23T00:00:00",
                    "2022-07-24T00:00:00",
                    "2022-07-25T00:00:00",
                    "2022-07-26T00:00:00",
                    "2022-07-27T00:00:00",
                    "2022-07-28T00:00:00",
                    "2022-07-29T00:00:00",
                    "2022-07-30T00:00:00",
                    "2022-07-31T00:00:00",
                    "2022-08-01T00:00:00",
                    "2022-08-02T00:00:00",
                    "2022-08-03T00:00:00",
                    "2022-08-04T00:00:00",
                    "2022-08-05T00:00:00",
                    "2022-08-06T00:00:00",
                    "2022-08-07T00:00:00",
                    "2022-08-08T00:00:00",
                    "2022-08-09T00:00:00",
                    "2022-08-10T00:00:00",
                    "2022-08-11T00:00:00",
                    "2022-08-12T00:00:00",
                    "2022-08-13T00:00:00",
                    "2022-08-14T00:00:00",
                    "2022-08-15T00:00:00",
                    "2022-08-16T00:00:00",
                    "2022-08-17T00:00:00",
                    "2022-08-18T00:00:00",
                    "2022-08-19T00:00:00",
                    "2022-08-20T00:00:00",
                    "2022-08-21T00:00:00",
                    "2022-08-22T00:00:00",
                    "2022-08-23T00:00:00",
                    "2022-08-24T00:00:00",
                    "2022-08-25T00:00:00",
                    "2022-08-26T00:00:00",
                    "2022-08-27T00:00:00",
                    "2022-08-28T00:00:00",
                    "2022-08-29T00:00:00",
                    "2022-08-30T00:00:00",
                    "2022-08-31T00:00:00",
                    "2022-09-01T00:00:00",
                    "2022-09-02T00:00:00",
                    "2022-09-03T00:00:00",
                    "2022-09-04T00:00:00",
                    "2022-09-05T00:00:00",
                    "2022-09-06T00:00:00",
                    "2022-09-07T00:00:00",
                    "2022-09-08T00:00:00",
                    "2022-09-09T00:00:00",
                    "2022-09-10T00:00:00",
                    "2022-09-11T00:00:00",
                    "2022-09-12T00:00:00",
                    "2022-09-13T00:00:00",
                    "2022-09-14T00:00:00",
                    "2022-09-15T00:00:00",
                    "2022-09-16T00:00:00",
                    "2022-09-17T00:00:00",
                    "2022-09-18T00:00:00",
                    "2022-09-19T00:00:00",
                    "2022-09-20T00:00:00",
                    "2022-09-21T00:00:00",
                    "2022-09-22T00:00:00",
                    "2022-09-23T00:00:00",
                    "2022-09-24T00:00:00",
                    "2022-09-25T00:00:00",
                    "2022-09-26T00:00:00",
                    "2022-09-27T00:00:00",
                    "2022-09-28T00:00:00",
                    "2022-09-29T00:00:00",
                    "2022-09-30T00:00:00",
                    "2022-10-01T00:00:00",
                    "2022-10-02T00:00:00",
                    "2022-10-03T00:00:00",
                    "2022-10-04T00:00:00",
                    "2022-10-05T00:00:00",
                    "2022-10-06T00:00:00",
                    "2022-10-07T00:00:00",
                    "2022-10-08T00:00:00",
                    "2022-10-09T00:00:00",
                    "2022-10-10T00:00:00",
                    "2022-10-11T00:00:00",
                    "2022-10-12T00:00:00",
                    "2022-10-13T00:00:00",
                    "2022-10-14T00:00:00",
                    "2022-10-15T00:00:00",
                    "2022-10-16T00:00:00",
                    "2022-10-17T00:00:00",
                    "2022-10-18T00:00:00",
                    "2022-10-19T00:00:00",
                    "2022-10-20T00:00:00",
                    "2022-10-21T00:00:00",
                    "2022-10-22T00:00:00",
                    "2022-10-23T00:00:00",
                    "2022-10-24T00:00:00",
                    "2022-10-25T00:00:00",
                    "2022-10-26T00:00:00",
                    "2022-10-27T00:00:00",
                    "2022-10-28T00:00:00",
                    "2022-10-29T00:00:00",
                    "2022-10-30T00:00:00",
                    "2022-10-31T00:00:00",
                    "2022-11-01T00:00:00",
                    "2022-11-02T00:00:00",
                    "2022-11-03T00:00:00",
                    "2022-11-04T00:00:00",
                    "2022-11-05T00:00:00",
                    "2022-11-06T00:00:00",
                    "2022-11-07T00:00:00",
                    "2022-11-08T00:00:00",
                    "2022-11-09T00:00:00",
                    "2022-11-10T00:00:00",
                    "2022-11-11T00:00:00",
                    "2022-11-12T00:00:00",
                    "2022-11-13T00:00:00",
                    "2022-11-14T00:00:00",
                    "2022-11-15T00:00:00",
                    "2022-11-16T00:00:00",
                    "2022-11-17T00:00:00",
                    "2022-11-18T00:00:00",
                    "2022-11-19T00:00:00",
                    "2022-11-20T00:00:00",
                    "2022-11-21T00:00:00",
                    "2022-11-22T00:00:00",
                    "2022-11-23T00:00:00",
                    "2022-11-24T00:00:00",
                    "2022-11-25T00:00:00",
                    "2022-11-26T00:00:00",
                    "2022-11-27T00:00:00",
                    "2022-11-28T00:00:00",
                    "2022-11-29T00:00:00",
                    "2022-11-30T00:00:00",
                    "2022-12-01T00:00:00",
                    "2022-12-02T00:00:00",
                    "2022-12-03T00:00:00",
                    "2022-12-04T00:00:00",
                    "2022-12-05T00:00:00",
                    "2022-12-06T00:00:00",
                    "2022-12-07T00:00:00",
                    "2022-12-08T00:00:00",
                    "2022-12-09T00:00:00",
                    "2022-12-10T00:00:00",
                    "2022-12-11T00:00:00",
                    "2022-12-12T00:00:00",
                    "2022-12-13T00:00:00",
                    "2022-12-14T00:00:00",
                    "2022-12-15T00:00:00",
                    "2022-12-16T00:00:00",
                    "2022-12-17T00:00:00",
                    "2022-12-18T00:00:00",
                    "2022-12-19T00:00:00",
                    "2022-12-20T00:00:00",
                    "2022-12-21T00:00:00",
                    "2022-12-22T00:00:00",
                    "2022-12-23T00:00:00",
                    "2022-12-24T00:00:00",
                    "2022-12-25T00:00:00",
                    "2022-12-26T00:00:00",
                    "2022-12-27T00:00:00",
                    "2022-12-28T00:00:00",
                    "2022-12-29T00:00:00",
                    "2022-12-30T00:00:00",
                    "2022-12-31T00:00:00"
                  ],
                  "y": [
                    1,
                    1,
                    1,
                    1,
                    1,
                    1,
                    2,
                    1,
                    1,
                    1,
                    1,
                    1,
                    1,
                    1,
                    2,
                    1,
                    1,
                    1,
                    1,
                    1,
                    1,
                    1,
                    1,
                    2,
                    1,
                    1,
                    1,
                    2,
                    1,
                    1,
                    1,
                    1,
                    1,
                    1,
                    1,
                    1,
                    1,
                    1,
                    1,
                    1,
                    2,
                    1,
                    1,
                    2,
                    1,
                    1,
                    1,
                    1,
                    1,
                    1,
                    1,
                    2,
                    1,
                    1,
                    2,
                    1,
                    1,
                    1,
                    2,
                    2,
                    3,
                    4,
                    2,
                    2,
                    2,
                    2,
                    3,
                    1,
                    3,
                    1,
                    2,
                    3,
                    1,
                    2,
                    1,
                    1,
                    2,
                    3,
                    2,
                    4,
                    1,
                    3,
                    3,
                    1,
                    5,
                    5,
                    3,
                    3,
                    4,
                    4,
                    1,
                    5,
                    5,
                    5,
                    8,
                    3,
                    1,
                    4,
                    7,
                    5,
                    14,
                    26,
                    24,
                    27,
                    15,
                    34,
                    37,
                    28,
                    41,
                    39,
                    40,
                    47,
                    46,
                    56,
                    67,
                    61,
                    74,
                    36,
                    39,
                    42,
                    62,
                    59,
                    67,
                    57,
                    48,
                    54,
                    42,
                    62,
                    52,
                    58,
                    42,
                    41,
                    56,
                    65,
                    57,
                    58,
                    40,
                    60,
                    50,
                    38,
                    54,
                    52,
                    29,
                    49,
                    45,
                    39,
                    41,
                    48,
                    68,
                    66,
                    45,
                    52,
                    34,
                    30,
                    54,
                    48,
                    50,
                    54,
                    54,
                    57,
                    40,
                    46,
                    57,
                    58,
                    63,
                    53,
                    58,
                    43,
                    68,
                    58,
                    69,
                    70,
                    31,
                    62,
                    44,
                    50,
                    71,
                    95,
                    81,
                    57,
                    44,
                    53,
                    71,
                    68,
                    90,
                    85,
                    55,
                    55,
                    57,
                    66,
                    62,
                    69,
                    85,
                    32,
                    61,
                    28,
                    66,
                    52,
                    54,
                    74,
                    39,
                    53,
                    36,
                    47,
                    57,
                    86,
                    44,
                    59,
                    62,
                    46,
                    58,
                    77,
                    67,
                    51,
                    47,
                    66,
                    54,
                    60,
                    51,
                    55,
                    57,
                    44,
                    62,
                    45,
                    64,
                    59,
                    44,
                    73,
                    70,
                    58,
                    45,
                    52,
                    61,
                    70,
                    69,
                    65,
                    49,
                    41,
                    63,
                    47,
                    77,
                    87,
                    43,
                    57,
                    52,
                    75,
                    58,
                    48,
                    83,
                    63,
                    57,
                    28,
                    68,
                    54,
                    50,
                    52,
                    56,
                    69,
                    24,
                    64,
                    52,
                    63,
                    54,
                    48,
                    76,
                    33,
                    54,
                    74,
                    53,
                    50,
                    60,
                    61,
                    62,
                    42,
                    83,
                    76,
                    55,
                    58,
                    55,
                    47,
                    48,
                    62,
                    53,
                    41,
                    41,
                    47,
                    36,
                    67,
                    46,
                    65,
                    57,
                    44,
                    41,
                    45,
                    44,
                    57,
                    56,
                    56,
                    53,
                    56,
                    36,
                    40,
                    53,
                    56,
                    82,
                    58,
                    46,
                    20,
                    35,
                    53,
                    76,
                    62,
                    40,
                    37,
                    54,
                    34,
                    35,
                    44,
                    44,
                    40,
                    32,
                    48,
                    43,
                    47,
                    52,
                    46,
                    41,
                    32,
                    24,
                    59,
                    27,
                    80,
                    57,
                    46,
                    61,
                    42,
                    53,
                    54,
                    60,
                    86,
                    68,
                    57,
                    29,
                    68,
                    75,
                    54,
                    71,
                    67,
                    65,
                    46,
                    73,
                    59,
                    42,
                    82,
                    65,
                    52,
                    34,
                    65,
                    66,
                    59,
                    56,
                    58,
                    80,
                    59,
                    50,
                    71,
                    84,
                    62,
                    83,
                    63,
                    51,
                    86,
                    62,
                    63,
                    75,
                    89,
                    120,
                    61,
                    51,
                    59,
                    72,
                    91,
                    93,
                    45,
                    44,
                    67,
                    87,
                    74,
                    95,
                    75,
                    85,
                    56,
                    73,
                    81,
                    73,
                    81,
                    75,
                    63,
                    55,
                    58,
                    99,
                    83,
                    79,
                    90,
                    119,
                    53,
                    58,
                    66,
                    81,
                    83,
                    89,
                    98,
                    59,
                    78,
                    87,
                    79,
                    87,
                    65,
                    86,
                    59,
                    117,
                    78,
                    77,
                    98,
                    94,
                    88,
                    83,
                    61,
                    73,
                    105,
                    61,
                    98,
                    91,
                    70,
                    80,
                    94,
                    83,
                    97,
                    62,
                    72,
                    86,
                    83,
                    104,
                    74,
                    122,
                    81,
                    98,
                    67,
                    88,
                    88,
                    109,
                    119,
                    110,
                    100,
                    61,
                    92,
                    66,
                    107,
                    73,
                    91,
                    48,
                    39,
                    43,
                    67,
                    65,
                    49,
                    27
                  ],
                  "type": "scatter"
                }
              ],
              "layout": {
                "template": {
                  "data": {
                    "barpolar": [
                      {
                        "marker": {
                          "line": {
                            "color": "#E5ECF6",
                            "width": 0.5
                          },
                          "pattern": {
                            "fillmode": "overlay",
                            "size": 10,
                            "solidity": 0.2
                          }
                        },
                        "type": "barpolar"
                      }
                    ],
                    "bar": [
                      {
                        "error_x": {
                          "color": "#2a3f5f"
                        },
                        "error_y": {
                          "color": "#2a3f5f"
                        },
                        "marker": {
                          "line": {
                            "color": "#E5ECF6",
                            "width": 0.5
                          },
                          "pattern": {
                            "fillmode": "overlay",
                            "size": 10,
                            "solidity": 0.2
                          }
                        },
                        "type": "bar"
                      }
                    ],
                    "carpet": [
                      {
                        "aaxis": {
                          "endlinecolor": "#2a3f5f",
                          "gridcolor": "white",
                          "linecolor": "white",
                          "minorgridcolor": "white",
                          "startlinecolor": "#2a3f5f"
                        },
                        "baxis": {
                          "endlinecolor": "#2a3f5f",
                          "gridcolor": "white",
                          "linecolor": "white",
                          "minorgridcolor": "white",
                          "startlinecolor": "#2a3f5f"
                        },
                        "type": "carpet"
                      }
                    ],
                    "choropleth": [
                      {
                        "colorbar": {
                          "outlinewidth": 0,
                          "ticks": ""
                        },
                        "type": "choropleth"
                      }
                    ],
                    "contourcarpet": [
                      {
                        "colorbar": {
                          "outlinewidth": 0,
                          "ticks": ""
                        },
                        "type": "contourcarpet"
                      }
                    ],
                    "contour": [
                      {
                        "colorbar": {
                          "outlinewidth": 0,
                          "ticks": ""
                        },
                        "colorscale": [
                          [
                            0,
                            "#0d0887"
                          ],
                          [
                            0.1111111111111111,
                            "#46039f"
                          ],
                          [
                            0.2222222222222222,
                            "#7201a8"
                          ],
                          [
                            0.3333333333333333,
                            "#9c179e"
                          ],
                          [
                            0.4444444444444444,
                            "#bd3786"
                          ],
                          [
                            0.5555555555555556,
                            "#d8576b"
                          ],
                          [
                            0.6666666666666666,
                            "#ed7953"
                          ],
                          [
                            0.7777777777777778,
                            "#fb9f3a"
                          ],
                          [
                            0.8888888888888888,
                            "#fdca26"
                          ],
                          [
                            1,
                            "#f0f921"
                          ]
                        ],
                        "type": "contour"
                      }
                    ],
                    "heatmapgl": [
                      {
                        "colorbar": {
                          "outlinewidth": 0,
                          "ticks": ""
                        },
                        "colorscale": [
                          [
                            0,
                            "#0d0887"
                          ],
                          [
                            0.1111111111111111,
                            "#46039f"
                          ],
                          [
                            0.2222222222222222,
                            "#7201a8"
                          ],
                          [
                            0.3333333333333333,
                            "#9c179e"
                          ],
                          [
                            0.4444444444444444,
                            "#bd3786"
                          ],
                          [
                            0.5555555555555556,
                            "#d8576b"
                          ],
                          [
                            0.6666666666666666,
                            "#ed7953"
                          ],
                          [
                            0.7777777777777778,
                            "#fb9f3a"
                          ],
                          [
                            0.8888888888888888,
                            "#fdca26"
                          ],
                          [
                            1,
                            "#f0f921"
                          ]
                        ],
                        "type": "heatmapgl"
                      }
                    ],
                    "heatmap": [
                      {
                        "colorbar": {
                          "outlinewidth": 0,
                          "ticks": ""
                        },
                        "colorscale": [
                          [
                            0,
                            "#0d0887"
                          ],
                          [
                            0.1111111111111111,
                            "#46039f"
                          ],
                          [
                            0.2222222222222222,
                            "#7201a8"
                          ],
                          [
                            0.3333333333333333,
                            "#9c179e"
                          ],
                          [
                            0.4444444444444444,
                            "#bd3786"
                          ],
                          [
                            0.5555555555555556,
                            "#d8576b"
                          ],
                          [
                            0.6666666666666666,
                            "#ed7953"
                          ],
                          [
                            0.7777777777777778,
                            "#fb9f3a"
                          ],
                          [
                            0.8888888888888888,
                            "#fdca26"
                          ],
                          [
                            1,
                            "#f0f921"
                          ]
                        ],
                        "type": "heatmap"
                      }
                    ],
                    "histogram2dcontour": [
                      {
                        "colorbar": {
                          "outlinewidth": 0,
                          "ticks": ""
                        },
                        "colorscale": [
                          [
                            0,
                            "#0d0887"
                          ],
                          [
                            0.1111111111111111,
                            "#46039f"
                          ],
                          [
                            0.2222222222222222,
                            "#7201a8"
                          ],
                          [
                            0.3333333333333333,
                            "#9c179e"
                          ],
                          [
                            0.4444444444444444,
                            "#bd3786"
                          ],
                          [
                            0.5555555555555556,
                            "#d8576b"
                          ],
                          [
                            0.6666666666666666,
                            "#ed7953"
                          ],
                          [
                            0.7777777777777778,
                            "#fb9f3a"
                          ],
                          [
                            0.8888888888888888,
                            "#fdca26"
                          ],
                          [
                            1,
                            "#f0f921"
                          ]
                        ],
                        "type": "histogram2dcontour"
                      }
                    ],
                    "histogram2d": [
                      {
                        "colorbar": {
                          "outlinewidth": 0,
                          "ticks": ""
                        },
                        "colorscale": [
                          [
                            0,
                            "#0d0887"
                          ],
                          [
                            0.1111111111111111,
                            "#46039f"
                          ],
                          [
                            0.2222222222222222,
                            "#7201a8"
                          ],
                          [
                            0.3333333333333333,
                            "#9c179e"
                          ],
                          [
                            0.4444444444444444,
                            "#bd3786"
                          ],
                          [
                            0.5555555555555556,
                            "#d8576b"
                          ],
                          [
                            0.6666666666666666,
                            "#ed7953"
                          ],
                          [
                            0.7777777777777778,
                            "#fb9f3a"
                          ],
                          [
                            0.8888888888888888,
                            "#fdca26"
                          ],
                          [
                            1,
                            "#f0f921"
                          ]
                        ],
                        "type": "histogram2d"
                      }
                    ],
                    "histogram": [
                      {
                        "marker": {
                          "pattern": {
                            "fillmode": "overlay",
                            "size": 10,
                            "solidity": 0.2
                          }
                        },
                        "type": "histogram"
                      }
                    ],
                    "mesh3d": [
                      {
                        "colorbar": {
                          "outlinewidth": 0,
                          "ticks": ""
                        },
                        "type": "mesh3d"
                      }
                    ],
                    "parcoords": [
                      {
                        "line": {
                          "colorbar": {
                            "outlinewidth": 0,
                            "ticks": ""
                          }
                        },
                        "type": "parcoords"
                      }
                    ],
                    "pie": [
                      {
                        "automargin": true,
                        "type": "pie"
                      }
                    ],
                    "scatter3d": [
                      {
                        "line": {
                          "colorbar": {
                            "outlinewidth": 0,
                            "ticks": ""
                          }
                        },
                        "marker": {
                          "colorbar": {
                            "outlinewidth": 0,
                            "ticks": ""
                          }
                        },
                        "type": "scatter3d"
                      }
                    ],
                    "scattercarpet": [
                      {
                        "marker": {
                          "colorbar": {
                            "outlinewidth": 0,
                            "ticks": ""
                          }
                        },
                        "type": "scattercarpet"
                      }
                    ],
                    "scattergeo": [
                      {
                        "marker": {
                          "colorbar": {
                            "outlinewidth": 0,
                            "ticks": ""
                          }
                        },
                        "type": "scattergeo"
                      }
                    ],
                    "scattergl": [
                      {
                        "marker": {
                          "colorbar": {
                            "outlinewidth": 0,
                            "ticks": ""
                          }
                        },
                        "type": "scattergl"
                      }
                    ],
                    "scattermapbox": [
                      {
                        "marker": {
                          "colorbar": {
                            "outlinewidth": 0,
                            "ticks": ""
                          }
                        },
                        "type": "scattermapbox"
                      }
                    ],
                    "scatterpolargl": [
                      {
                        "marker": {
                          "colorbar": {
                            "outlinewidth": 0,
                            "ticks": ""
                          }
                        },
                        "type": "scatterpolargl"
                      }
                    ],
                    "scatterpolar": [
                      {
                        "marker": {
                          "colorbar": {
                            "outlinewidth": 0,
                            "ticks": ""
                          }
                        },
                        "type": "scatterpolar"
                      }
                    ],
                    "scatter": [
                      {
                        "fillpattern": {
                          "fillmode": "overlay",
                          "size": 10,
                          "solidity": 0.2
                        },
                        "type": "scatter"
                      }
                    ],
                    "scatterternary": [
                      {
                        "marker": {
                          "colorbar": {
                            "outlinewidth": 0,
                            "ticks": ""
                          }
                        },
                        "type": "scatterternary"
                      }
                    ],
                    "surface": [
                      {
                        "colorbar": {
                          "outlinewidth": 0,
                          "ticks": ""
                        },
                        "colorscale": [
                          [
                            0,
                            "#0d0887"
                          ],
                          [
                            0.1111111111111111,
                            "#46039f"
                          ],
                          [
                            0.2222222222222222,
                            "#7201a8"
                          ],
                          [
                            0.3333333333333333,
                            "#9c179e"
                          ],
                          [
                            0.4444444444444444,
                            "#bd3786"
                          ],
                          [
                            0.5555555555555556,
                            "#d8576b"
                          ],
                          [
                            0.6666666666666666,
                            "#ed7953"
                          ],
                          [
                            0.7777777777777778,
                            "#fb9f3a"
                          ],
                          [
                            0.8888888888888888,
                            "#fdca26"
                          ],
                          [
                            1,
                            "#f0f921"
                          ]
                        ],
                        "type": "surface"
                      }
                    ],
                    "table": [
                      {
                        "cells": {
                          "fill": {
                            "color": "#EBF0F8"
                          },
                          "line": {
                            "color": "white"
                          }
                        },
                        "header": {
                          "fill": {
                            "color": "#C8D4E3"
                          },
                          "line": {
                            "color": "white"
                          }
                        },
                        "type": "table"
                      }
                    ]
                  },
                  "layout": {
                    "annotationdefaults": {
                      "arrowcolor": "#2a3f5f",
                      "arrowhead": 0,
                      "arrowwidth": 1
                    },
                    "autotypenumbers": "strict",
                    "coloraxis": {
                      "colorbar": {
                        "outlinewidth": 0,
                        "ticks": ""
                      }
                    },
                    "colorscale": {
                      "diverging": [
                        [
                          0,
                          "#8e0152"
                        ],
                        [
                          0.1,
                          "#c51b7d"
                        ],
                        [
                          0.2,
                          "#de77ae"
                        ],
                        [
                          0.3,
                          "#f1b6da"
                        ],
                        [
                          0.4,
                          "#fde0ef"
                        ],
                        [
                          0.5,
                          "#f7f7f7"
                        ],
                        [
                          0.6,
                          "#e6f5d0"
                        ],
                        [
                          0.7,
                          "#b8e186"
                        ],
                        [
                          0.8,
                          "#7fbc41"
                        ],
                        [
                          0.9,
                          "#4d9221"
                        ],
                        [
                          1,
                          "#276419"
                        ]
                      ],
                      "sequential": [
                        [
                          0,
                          "#0d0887"
                        ],
                        [
                          0.1111111111111111,
                          "#46039f"
                        ],
                        [
                          0.2222222222222222,
                          "#7201a8"
                        ],
                        [
                          0.3333333333333333,
                          "#9c179e"
                        ],
                        [
                          0.4444444444444444,
                          "#bd3786"
                        ],
                        [
                          0.5555555555555556,
                          "#d8576b"
                        ],
                        [
                          0.6666666666666666,
                          "#ed7953"
                        ],
                        [
                          0.7777777777777778,
                          "#fb9f3a"
                        ],
                        [
                          0.8888888888888888,
                          "#fdca26"
                        ],
                        [
                          1,
                          "#f0f921"
                        ]
                      ],
                      "sequentialminus": [
                        [
                          0,
                          "#0d0887"
                        ],
                        [
                          0.1111111111111111,
                          "#46039f"
                        ],
                        [
                          0.2222222222222222,
                          "#7201a8"
                        ],
                        [
                          0.3333333333333333,
                          "#9c179e"
                        ],
                        [
                          0.4444444444444444,
                          "#bd3786"
                        ],
                        [
                          0.5555555555555556,
                          "#d8576b"
                        ],
                        [
                          0.6666666666666666,
                          "#ed7953"
                        ],
                        [
                          0.7777777777777778,
                          "#fb9f3a"
                        ],
                        [
                          0.8888888888888888,
                          "#fdca26"
                        ],
                        [
                          1,
                          "#f0f921"
                        ]
                      ]
                    },
                    "colorway": [
                      "#636efa",
                      "#EF553B",
                      "#00cc96",
                      "#ab63fa",
                      "#FFA15A",
                      "#19d3f3",
                      "#FF6692",
                      "#B6E880",
                      "#FF97FF",
                      "#FECB52"
                    ],
                    "font": {
                      "color": "#2a3f5f"
                    },
                    "geo": {
                      "bgcolor": "white",
                      "lakecolor": "white",
                      "landcolor": "#E5ECF6",
                      "showlakes": true,
                      "showland": true,
                      "subunitcolor": "white"
                    },
                    "hoverlabel": {
                      "align": "left"
                    },
                    "hovermode": "closest",
                    "mapbox": {
                      "style": "light"
                    },
                    "paper_bgcolor": "white",
                    "plot_bgcolor": "#E5ECF6",
                    "polar": {
                      "angularaxis": {
                        "gridcolor": "white",
                        "linecolor": "white",
                        "ticks": ""
                      },
                      "bgcolor": "#E5ECF6",
                      "radialaxis": {
                        "gridcolor": "white",
                        "linecolor": "white",
                        "ticks": ""
                      }
                    },
                    "scene": {
                      "xaxis": {
                        "backgroundcolor": "#E5ECF6",
                        "gridcolor": "white",
                        "gridwidth": 2,
                        "linecolor": "white",
                        "showbackground": true,
                        "ticks": "",
                        "zerolinecolor": "white"
                      },
                      "yaxis": {
                        "backgroundcolor": "#E5ECF6",
                        "gridcolor": "white",
                        "gridwidth": 2,
                        "linecolor": "white",
                        "showbackground": true,
                        "ticks": "",
                        "zerolinecolor": "white"
                      },
                      "zaxis": {
                        "backgroundcolor": "#E5ECF6",
                        "gridcolor": "white",
                        "gridwidth": 2,
                        "linecolor": "white",
                        "showbackground": true,
                        "ticks": "",
                        "zerolinecolor": "white"
                      }
                    },
                    "shapedefaults": {
                      "line": {
                        "color": "#2a3f5f"
                      }
                    },
                    "ternary": {
                      "aaxis": {
                        "gridcolor": "white",
                        "linecolor": "white",
                        "ticks": ""
                      },
                      "baxis": {
                        "gridcolor": "white",
                        "linecolor": "white",
                        "ticks": ""
                      },
                      "bgcolor": "#E5ECF6",
                      "caxis": {
                        "gridcolor": "white",
                        "linecolor": "white",
                        "ticks": ""
                      }
                    },
                    "title": {
                      "x": 0.05
                    },
                    "xaxis": {
                      "automargin": true,
                      "gridcolor": "white",
                      "linecolor": "white",
                      "ticks": "",
                      "title": {
                        "standoff": 15
                      },
                      "zerolinecolor": "white",
                      "zerolinewidth": 2
                    },
                    "yaxis": {
                      "automargin": true,
                      "gridcolor": "white",
                      "linecolor": "white",
                      "ticks": "",
                      "title": {
                        "standoff": 15
                      },
                      "zerolinecolor": "white",
                      "zerolinewidth": 2
                    }
                  }
                },
                "title": {
                  "text": "Ocorrências Roubo de Veículo"
                },
                "xaxis": {
                  "rangeselector": {
                    "buttons": [
                      {
                        "count": 12,
                        "label": "1yr",
                        "step": "month",
                        "stepmode": "backward"
                      },
                      {
                        "count": 6,
                        "label": "6m",
                        "step": "month",
                        "stepmode": "backward"
                      },
                      {
                        "step": "all"
                      }
                    ]
                  },
                  "rangeslider": {
                    "visible": true
                  },
                  "type": "date"
                }
              },
              "config": {
                "showLink": false,
                "linkText": "Export to plot.ly",
                "plotlyServerURL": "https://plot.ly"
              }
            },
            "text/html": [
              "<div>                            <div id=\"d412dce1-bf1b-4e24-80fa-6aa966e7d34b\" class=\"plotly-graph-div\" style=\"height:525px; width:100%;\"></div>            <script type=\"text/javascript\">                require([\"plotly\"], function(Plotly) {                    window.PLOTLYENV=window.PLOTLYENV || {};                                    if (document.getElementById(\"d412dce1-bf1b-4e24-80fa-6aa966e7d34b\")) {                    Plotly.newPlot(                        \"d412dce1-bf1b-4e24-80fa-6aa966e7d34b\",                        [{\"x\":[\"2010-03-10T00:00:00\",\"2010-09-19T00:00:00\",\"2010-11-15T00:00:00\",\"2011-02-16T00:00:00\",\"2011-03-22T00:00:00\",\"2011-11-12T00:00:00\",\"2012-11-04T00:00:00\",\"2014-07-22T00:00:00\",\"2016-04-02T00:00:00\",\"2016-08-10T00:00:00\",\"2016-11-23T00:00:00\",\"2018-04-04T00:00:00\",\"2018-12-04T00:00:00\",\"2019-01-15T00:00:00\",\"2019-01-18T00:00:00\",\"2019-04-01T00:00:00\",\"2019-11-12T00:00:00\",\"2020-01-08T00:00:00\",\"2020-02-04T00:00:00\",\"2020-02-08T00:00:00\",\"2020-02-10T00:00:00\",\"2020-03-13T00:00:00\",\"2020-04-02T00:00:00\",\"2020-04-26T00:00:00\",\"2020-05-09T00:00:00\",\"2020-07-14T00:00:00\",\"2020-08-14T00:00:00\",\"2020-08-20T00:00:00\",\"2020-11-17T00:00:00\",\"2021-01-04T00:00:00\",\"2021-01-09T00:00:00\",\"2021-01-12T00:00:00\",\"2021-01-21T00:00:00\",\"2021-01-27T00:00:00\",\"2021-02-02T00:00:00\",\"2021-02-07T00:00:00\",\"2021-02-13T00:00:00\",\"2021-02-14T00:00:00\",\"2021-02-18T00:00:00\",\"2021-03-05T00:00:00\",\"2021-03-14T00:00:00\",\"2021-03-31T00:00:00\",\"2021-04-18T00:00:00\",\"2021-04-20T00:00:00\",\"2021-04-23T00:00:00\",\"2021-05-14T00:00:00\",\"2021-06-13T00:00:00\",\"2021-06-22T00:00:00\",\"2021-06-25T00:00:00\",\"2021-07-16T00:00:00\",\"2021-08-01T00:00:00\",\"2021-08-05T00:00:00\",\"2021-09-16T00:00:00\",\"2021-09-18T00:00:00\",\"2021-09-23T00:00:00\",\"2021-09-24T00:00:00\",\"2021-09-26T00:00:00\",\"2021-09-28T00:00:00\",\"2021-09-29T00:00:00\",\"2021-10-01T00:00:00\",\"2021-10-05T00:00:00\",\"2021-10-06T00:00:00\",\"2021-10-16T00:00:00\",\"2021-10-30T00:00:00\",\"2021-11-03T00:00:00\",\"2021-11-07T00:00:00\",\"2021-11-10T00:00:00\",\"2021-11-11T00:00:00\",\"2021-11-15T00:00:00\",\"2021-11-20T00:00:00\",\"2021-11-22T00:00:00\",\"2021-11-24T00:00:00\",\"2021-11-25T00:00:00\",\"2021-11-26T00:00:00\",\"2021-11-27T00:00:00\",\"2021-11-29T00:00:00\",\"2021-11-30T00:00:00\",\"2021-12-01T00:00:00\",\"2021-12-02T00:00:00\",\"2021-12-03T00:00:00\",\"2021-12-05T00:00:00\",\"2021-12-07T00:00:00\",\"2021-12-09T00:00:00\",\"2021-12-11T00:00:00\",\"2021-12-12T00:00:00\",\"2021-12-14T00:00:00\",\"2021-12-16T00:00:00\",\"2021-12-17T00:00:00\",\"2021-12-18T00:00:00\",\"2021-12-19T00:00:00\",\"2021-12-20T00:00:00\",\"2021-12-21T00:00:00\",\"2021-12-22T00:00:00\",\"2021-12-23T00:00:00\",\"2021-12-24T00:00:00\",\"2021-12-25T00:00:00\",\"2021-12-26T00:00:00\",\"2021-12-27T00:00:00\",\"2021-12-28T00:00:00\",\"2021-12-29T00:00:00\",\"2021-12-30T00:00:00\",\"2021-12-31T00:00:00\",\"2022-01-01T00:00:00\",\"2022-01-02T00:00:00\",\"2022-01-03T00:00:00\",\"2022-01-04T00:00:00\",\"2022-01-05T00:00:00\",\"2022-01-06T00:00:00\",\"2022-01-07T00:00:00\",\"2022-01-08T00:00:00\",\"2022-01-09T00:00:00\",\"2022-01-10T00:00:00\",\"2022-01-11T00:00:00\",\"2022-01-12T00:00:00\",\"2022-01-13T00:00:00\",\"2022-01-14T00:00:00\",\"2022-01-15T00:00:00\",\"2022-01-16T00:00:00\",\"2022-01-17T00:00:00\",\"2022-01-18T00:00:00\",\"2022-01-19T00:00:00\",\"2022-01-20T00:00:00\",\"2022-01-21T00:00:00\",\"2022-01-22T00:00:00\",\"2022-01-23T00:00:00\",\"2022-01-24T00:00:00\",\"2022-01-25T00:00:00\",\"2022-01-26T00:00:00\",\"2022-01-27T00:00:00\",\"2022-01-28T00:00:00\",\"2022-01-29T00:00:00\",\"2022-01-30T00:00:00\",\"2022-01-31T00:00:00\",\"2022-02-01T00:00:00\",\"2022-02-02T00:00:00\",\"2022-02-03T00:00:00\",\"2022-02-04T00:00:00\",\"2022-02-05T00:00:00\",\"2022-02-06T00:00:00\",\"2022-02-07T00:00:00\",\"2022-02-08T00:00:00\",\"2022-02-09T00:00:00\",\"2022-02-10T00:00:00\",\"2022-02-11T00:00:00\",\"2022-02-12T00:00:00\",\"2022-02-13T00:00:00\",\"2022-02-14T00:00:00\",\"2022-02-15T00:00:00\",\"2022-02-16T00:00:00\",\"2022-02-17T00:00:00\",\"2022-02-18T00:00:00\",\"2022-02-19T00:00:00\",\"2022-02-20T00:00:00\",\"2022-02-21T00:00:00\",\"2022-02-22T00:00:00\",\"2022-02-23T00:00:00\",\"2022-02-24T00:00:00\",\"2022-02-25T00:00:00\",\"2022-02-26T00:00:00\",\"2022-02-27T00:00:00\",\"2022-02-28T00:00:00\",\"2022-03-01T00:00:00\",\"2022-03-02T00:00:00\",\"2022-03-03T00:00:00\",\"2022-03-04T00:00:00\",\"2022-03-05T00:00:00\",\"2022-03-06T00:00:00\",\"2022-03-07T00:00:00\",\"2022-03-08T00:00:00\",\"2022-03-09T00:00:00\",\"2022-03-10T00:00:00\",\"2022-03-11T00:00:00\",\"2022-03-12T00:00:00\",\"2022-03-13T00:00:00\",\"2022-03-14T00:00:00\",\"2022-03-15T00:00:00\",\"2022-03-16T00:00:00\",\"2022-03-17T00:00:00\",\"2022-03-18T00:00:00\",\"2022-03-19T00:00:00\",\"2022-03-20T00:00:00\",\"2022-03-21T00:00:00\",\"2022-03-22T00:00:00\",\"2022-03-23T00:00:00\",\"2022-03-24T00:00:00\",\"2022-03-25T00:00:00\",\"2022-03-26T00:00:00\",\"2022-03-27T00:00:00\",\"2022-03-28T00:00:00\",\"2022-03-29T00:00:00\",\"2022-03-30T00:00:00\",\"2022-03-31T00:00:00\",\"2022-04-01T00:00:00\",\"2022-04-02T00:00:00\",\"2022-04-03T00:00:00\",\"2022-04-04T00:00:00\",\"2022-04-05T00:00:00\",\"2022-04-06T00:00:00\",\"2022-04-07T00:00:00\",\"2022-04-08T00:00:00\",\"2022-04-09T00:00:00\",\"2022-04-10T00:00:00\",\"2022-04-11T00:00:00\",\"2022-04-12T00:00:00\",\"2022-04-13T00:00:00\",\"2022-04-14T00:00:00\",\"2022-04-15T00:00:00\",\"2022-04-16T00:00:00\",\"2022-04-17T00:00:00\",\"2022-04-18T00:00:00\",\"2022-04-19T00:00:00\",\"2022-04-20T00:00:00\",\"2022-04-21T00:00:00\",\"2022-04-22T00:00:00\",\"2022-04-23T00:00:00\",\"2022-04-24T00:00:00\",\"2022-04-25T00:00:00\",\"2022-04-26T00:00:00\",\"2022-04-27T00:00:00\",\"2022-04-28T00:00:00\",\"2022-04-29T00:00:00\",\"2022-04-30T00:00:00\",\"2022-05-01T00:00:00\",\"2022-05-02T00:00:00\",\"2022-05-03T00:00:00\",\"2022-05-04T00:00:00\",\"2022-05-05T00:00:00\",\"2022-05-06T00:00:00\",\"2022-05-07T00:00:00\",\"2022-05-08T00:00:00\",\"2022-05-09T00:00:00\",\"2022-05-10T00:00:00\",\"2022-05-11T00:00:00\",\"2022-05-12T00:00:00\",\"2022-05-13T00:00:00\",\"2022-05-14T00:00:00\",\"2022-05-15T00:00:00\",\"2022-05-16T00:00:00\",\"2022-05-17T00:00:00\",\"2022-05-18T00:00:00\",\"2022-05-19T00:00:00\",\"2022-05-20T00:00:00\",\"2022-05-21T00:00:00\",\"2022-05-22T00:00:00\",\"2022-05-23T00:00:00\",\"2022-05-24T00:00:00\",\"2022-05-25T00:00:00\",\"2022-05-26T00:00:00\",\"2022-05-27T00:00:00\",\"2022-05-28T00:00:00\",\"2022-05-29T00:00:00\",\"2022-05-30T00:00:00\",\"2022-05-31T00:00:00\",\"2022-06-01T00:00:00\",\"2022-06-02T00:00:00\",\"2022-06-03T00:00:00\",\"2022-06-04T00:00:00\",\"2022-06-05T00:00:00\",\"2022-06-06T00:00:00\",\"2022-06-07T00:00:00\",\"2022-06-08T00:00:00\",\"2022-06-09T00:00:00\",\"2022-06-10T00:00:00\",\"2022-06-11T00:00:00\",\"2022-06-12T00:00:00\",\"2022-06-13T00:00:00\",\"2022-06-14T00:00:00\",\"2022-06-15T00:00:00\",\"2022-06-16T00:00:00\",\"2022-06-17T00:00:00\",\"2022-06-18T00:00:00\",\"2022-06-19T00:00:00\",\"2022-06-20T00:00:00\",\"2022-06-21T00:00:00\",\"2022-06-22T00:00:00\",\"2022-06-23T00:00:00\",\"2022-06-24T00:00:00\",\"2022-06-25T00:00:00\",\"2022-06-26T00:00:00\",\"2022-06-27T00:00:00\",\"2022-06-28T00:00:00\",\"2022-06-29T00:00:00\",\"2022-06-30T00:00:00\",\"2022-07-01T00:00:00\",\"2022-07-02T00:00:00\",\"2022-07-03T00:00:00\",\"2022-07-04T00:00:00\",\"2022-07-05T00:00:00\",\"2022-07-06T00:00:00\",\"2022-07-07T00:00:00\",\"2022-07-08T00:00:00\",\"2022-07-09T00:00:00\",\"2022-07-10T00:00:00\",\"2022-07-11T00:00:00\",\"2022-07-12T00:00:00\",\"2022-07-13T00:00:00\",\"2022-07-14T00:00:00\",\"2022-07-15T00:00:00\",\"2022-07-16T00:00:00\",\"2022-07-17T00:00:00\",\"2022-07-18T00:00:00\",\"2022-07-19T00:00:00\",\"2022-07-20T00:00:00\",\"2022-07-21T00:00:00\",\"2022-07-22T00:00:00\",\"2022-07-23T00:00:00\",\"2022-07-24T00:00:00\",\"2022-07-25T00:00:00\",\"2022-07-26T00:00:00\",\"2022-07-27T00:00:00\",\"2022-07-28T00:00:00\",\"2022-07-29T00:00:00\",\"2022-07-30T00:00:00\",\"2022-07-31T00:00:00\",\"2022-08-01T00:00:00\",\"2022-08-02T00:00:00\",\"2022-08-03T00:00:00\",\"2022-08-04T00:00:00\",\"2022-08-05T00:00:00\",\"2022-08-06T00:00:00\",\"2022-08-07T00:00:00\",\"2022-08-08T00:00:00\",\"2022-08-09T00:00:00\",\"2022-08-10T00:00:00\",\"2022-08-11T00:00:00\",\"2022-08-12T00:00:00\",\"2022-08-13T00:00:00\",\"2022-08-14T00:00:00\",\"2022-08-15T00:00:00\",\"2022-08-16T00:00:00\",\"2022-08-17T00:00:00\",\"2022-08-18T00:00:00\",\"2022-08-19T00:00:00\",\"2022-08-20T00:00:00\",\"2022-08-21T00:00:00\",\"2022-08-22T00:00:00\",\"2022-08-23T00:00:00\",\"2022-08-24T00:00:00\",\"2022-08-25T00:00:00\",\"2022-08-26T00:00:00\",\"2022-08-27T00:00:00\",\"2022-08-28T00:00:00\",\"2022-08-29T00:00:00\",\"2022-08-30T00:00:00\",\"2022-08-31T00:00:00\",\"2022-09-01T00:00:00\",\"2022-09-02T00:00:00\",\"2022-09-03T00:00:00\",\"2022-09-04T00:00:00\",\"2022-09-05T00:00:00\",\"2022-09-06T00:00:00\",\"2022-09-07T00:00:00\",\"2022-09-08T00:00:00\",\"2022-09-09T00:00:00\",\"2022-09-10T00:00:00\",\"2022-09-11T00:00:00\",\"2022-09-12T00:00:00\",\"2022-09-13T00:00:00\",\"2022-09-14T00:00:00\",\"2022-09-15T00:00:00\",\"2022-09-16T00:00:00\",\"2022-09-17T00:00:00\",\"2022-09-18T00:00:00\",\"2022-09-19T00:00:00\",\"2022-09-20T00:00:00\",\"2022-09-21T00:00:00\",\"2022-09-22T00:00:00\",\"2022-09-23T00:00:00\",\"2022-09-24T00:00:00\",\"2022-09-25T00:00:00\",\"2022-09-26T00:00:00\",\"2022-09-27T00:00:00\",\"2022-09-28T00:00:00\",\"2022-09-29T00:00:00\",\"2022-09-30T00:00:00\",\"2022-10-01T00:00:00\",\"2022-10-02T00:00:00\",\"2022-10-03T00:00:00\",\"2022-10-04T00:00:00\",\"2022-10-05T00:00:00\",\"2022-10-06T00:00:00\",\"2022-10-07T00:00:00\",\"2022-10-08T00:00:00\",\"2022-10-09T00:00:00\",\"2022-10-10T00:00:00\",\"2022-10-11T00:00:00\",\"2022-10-12T00:00:00\",\"2022-10-13T00:00:00\",\"2022-10-14T00:00:00\",\"2022-10-15T00:00:00\",\"2022-10-16T00:00:00\",\"2022-10-17T00:00:00\",\"2022-10-18T00:00:00\",\"2022-10-19T00:00:00\",\"2022-10-20T00:00:00\",\"2022-10-21T00:00:00\",\"2022-10-22T00:00:00\",\"2022-10-23T00:00:00\",\"2022-10-24T00:00:00\",\"2022-10-25T00:00:00\",\"2022-10-26T00:00:00\",\"2022-10-27T00:00:00\",\"2022-10-28T00:00:00\",\"2022-10-29T00:00:00\",\"2022-10-30T00:00:00\",\"2022-10-31T00:00:00\",\"2022-11-01T00:00:00\",\"2022-11-02T00:00:00\",\"2022-11-03T00:00:00\",\"2022-11-04T00:00:00\",\"2022-11-05T00:00:00\",\"2022-11-06T00:00:00\",\"2022-11-07T00:00:00\",\"2022-11-08T00:00:00\",\"2022-11-09T00:00:00\",\"2022-11-10T00:00:00\",\"2022-11-11T00:00:00\",\"2022-11-12T00:00:00\",\"2022-11-13T00:00:00\",\"2022-11-14T00:00:00\",\"2022-11-15T00:00:00\",\"2022-11-16T00:00:00\",\"2022-11-17T00:00:00\",\"2022-11-18T00:00:00\",\"2022-11-19T00:00:00\",\"2022-11-20T00:00:00\",\"2022-11-21T00:00:00\",\"2022-11-22T00:00:00\",\"2022-11-23T00:00:00\",\"2022-11-24T00:00:00\",\"2022-11-25T00:00:00\",\"2022-11-26T00:00:00\",\"2022-11-27T00:00:00\",\"2022-11-28T00:00:00\",\"2022-11-29T00:00:00\",\"2022-11-30T00:00:00\",\"2022-12-01T00:00:00\",\"2022-12-02T00:00:00\",\"2022-12-03T00:00:00\",\"2022-12-04T00:00:00\",\"2022-12-05T00:00:00\",\"2022-12-06T00:00:00\",\"2022-12-07T00:00:00\",\"2022-12-08T00:00:00\",\"2022-12-09T00:00:00\",\"2022-12-10T00:00:00\",\"2022-12-11T00:00:00\",\"2022-12-12T00:00:00\",\"2022-12-13T00:00:00\",\"2022-12-14T00:00:00\",\"2022-12-15T00:00:00\",\"2022-12-16T00:00:00\",\"2022-12-17T00:00:00\",\"2022-12-18T00:00:00\",\"2022-12-19T00:00:00\",\"2022-12-20T00:00:00\",\"2022-12-21T00:00:00\",\"2022-12-22T00:00:00\",\"2022-12-23T00:00:00\",\"2022-12-24T00:00:00\",\"2022-12-25T00:00:00\",\"2022-12-26T00:00:00\",\"2022-12-27T00:00:00\",\"2022-12-28T00:00:00\",\"2022-12-29T00:00:00\",\"2022-12-30T00:00:00\",\"2022-12-31T00:00:00\"],\"y\":[1,1,1,1,1,1,2,1,1,1,1,1,1,1,2,1,1,1,1,1,1,1,1,2,1,1,1,2,1,1,1,1,1,1,1,1,1,1,1,1,2,1,1,2,1,1,1,1,1,1,1,2,1,1,2,1,1,1,2,2,3,4,2,2,2,2,3,1,3,1,2,3,1,2,1,1,2,3,2,4,1,3,3,1,5,5,3,3,4,4,1,5,5,5,8,3,1,4,7,5,14,26,24,27,15,34,37,28,41,39,40,47,46,56,67,61,74,36,39,42,62,59,67,57,48,54,42,62,52,58,42,41,56,65,57,58,40,60,50,38,54,52,29,49,45,39,41,48,68,66,45,52,34,30,54,48,50,54,54,57,40,46,57,58,63,53,58,43,68,58,69,70,31,62,44,50,71,95,81,57,44,53,71,68,90,85,55,55,57,66,62,69,85,32,61,28,66,52,54,74,39,53,36,47,57,86,44,59,62,46,58,77,67,51,47,66,54,60,51,55,57,44,62,45,64,59,44,73,70,58,45,52,61,70,69,65,49,41,63,47,77,87,43,57,52,75,58,48,83,63,57,28,68,54,50,52,56,69,24,64,52,63,54,48,76,33,54,74,53,50,60,61,62,42,83,76,55,58,55,47,48,62,53,41,41,47,36,67,46,65,57,44,41,45,44,57,56,56,53,56,36,40,53,56,82,58,46,20,35,53,76,62,40,37,54,34,35,44,44,40,32,48,43,47,52,46,41,32,24,59,27,80,57,46,61,42,53,54,60,86,68,57,29,68,75,54,71,67,65,46,73,59,42,82,65,52,34,65,66,59,56,58,80,59,50,71,84,62,83,63,51,86,62,63,75,89,120,61,51,59,72,91,93,45,44,67,87,74,95,75,85,56,73,81,73,81,75,63,55,58,99,83,79,90,119,53,58,66,81,83,89,98,59,78,87,79,87,65,86,59,117,78,77,98,94,88,83,61,73,105,61,98,91,70,80,94,83,97,62,72,86,83,104,74,122,81,98,67,88,88,109,119,110,100,61,92,66,107,73,91,48,39,43,67,65,49,27],\"type\":\"scatter\"}],                        {\"template\":{\"data\":{\"barpolar\":[{\"marker\":{\"line\":{\"color\":\"#E5ECF6\",\"width\":0.5},\"pattern\":{\"fillmode\":\"overlay\",\"size\":10,\"solidity\":0.2}},\"type\":\"barpolar\"}],\"bar\":[{\"error_x\":{\"color\":\"#2a3f5f\"},\"error_y\":{\"color\":\"#2a3f5f\"},\"marker\":{\"line\":{\"color\":\"#E5ECF6\",\"width\":0.5},\"pattern\":{\"fillmode\":\"overlay\",\"size\":10,\"solidity\":0.2}},\"type\":\"bar\"}],\"carpet\":[{\"aaxis\":{\"endlinecolor\":\"#2a3f5f\",\"gridcolor\":\"white\",\"linecolor\":\"white\",\"minorgridcolor\":\"white\",\"startlinecolor\":\"#2a3f5f\"},\"baxis\":{\"endlinecolor\":\"#2a3f5f\",\"gridcolor\":\"white\",\"linecolor\":\"white\",\"minorgridcolor\":\"white\",\"startlinecolor\":\"#2a3f5f\"},\"type\":\"carpet\"}],\"choropleth\":[{\"colorbar\":{\"outlinewidth\":0,\"ticks\":\"\"},\"type\":\"choropleth\"}],\"contourcarpet\":[{\"colorbar\":{\"outlinewidth\":0,\"ticks\":\"\"},\"type\":\"contourcarpet\"}],\"contour\":[{\"colorbar\":{\"outlinewidth\":0,\"ticks\":\"\"},\"colorscale\":[[0.0,\"#0d0887\"],[0.1111111111111111,\"#46039f\"],[0.2222222222222222,\"#7201a8\"],[0.3333333333333333,\"#9c179e\"],[0.4444444444444444,\"#bd3786\"],[0.5555555555555556,\"#d8576b\"],[0.6666666666666666,\"#ed7953\"],[0.7777777777777778,\"#fb9f3a\"],[0.8888888888888888,\"#fdca26\"],[1.0,\"#f0f921\"]],\"type\":\"contour\"}],\"heatmapgl\":[{\"colorbar\":{\"outlinewidth\":0,\"ticks\":\"\"},\"colorscale\":[[0.0,\"#0d0887\"],[0.1111111111111111,\"#46039f\"],[0.2222222222222222,\"#7201a8\"],[0.3333333333333333,\"#9c179e\"],[0.4444444444444444,\"#bd3786\"],[0.5555555555555556,\"#d8576b\"],[0.6666666666666666,\"#ed7953\"],[0.7777777777777778,\"#fb9f3a\"],[0.8888888888888888,\"#fdca26\"],[1.0,\"#f0f921\"]],\"type\":\"heatmapgl\"}],\"heatmap\":[{\"colorbar\":{\"outlinewidth\":0,\"ticks\":\"\"},\"colorscale\":[[0.0,\"#0d0887\"],[0.1111111111111111,\"#46039f\"],[0.2222222222222222,\"#7201a8\"],[0.3333333333333333,\"#9c179e\"],[0.4444444444444444,\"#bd3786\"],[0.5555555555555556,\"#d8576b\"],[0.6666666666666666,\"#ed7953\"],[0.7777777777777778,\"#fb9f3a\"],[0.8888888888888888,\"#fdca26\"],[1.0,\"#f0f921\"]],\"type\":\"heatmap\"}],\"histogram2dcontour\":[{\"colorbar\":{\"outlinewidth\":0,\"ticks\":\"\"},\"colorscale\":[[0.0,\"#0d0887\"],[0.1111111111111111,\"#46039f\"],[0.2222222222222222,\"#7201a8\"],[0.3333333333333333,\"#9c179e\"],[0.4444444444444444,\"#bd3786\"],[0.5555555555555556,\"#d8576b\"],[0.6666666666666666,\"#ed7953\"],[0.7777777777777778,\"#fb9f3a\"],[0.8888888888888888,\"#fdca26\"],[1.0,\"#f0f921\"]],\"type\":\"histogram2dcontour\"}],\"histogram2d\":[{\"colorbar\":{\"outlinewidth\":0,\"ticks\":\"\"},\"colorscale\":[[0.0,\"#0d0887\"],[0.1111111111111111,\"#46039f\"],[0.2222222222222222,\"#7201a8\"],[0.3333333333333333,\"#9c179e\"],[0.4444444444444444,\"#bd3786\"],[0.5555555555555556,\"#d8576b\"],[0.6666666666666666,\"#ed7953\"],[0.7777777777777778,\"#fb9f3a\"],[0.8888888888888888,\"#fdca26\"],[1.0,\"#f0f921\"]],\"type\":\"histogram2d\"}],\"histogram\":[{\"marker\":{\"pattern\":{\"fillmode\":\"overlay\",\"size\":10,\"solidity\":0.2}},\"type\":\"histogram\"}],\"mesh3d\":[{\"colorbar\":{\"outlinewidth\":0,\"ticks\":\"\"},\"type\":\"mesh3d\"}],\"parcoords\":[{\"line\":{\"colorbar\":{\"outlinewidth\":0,\"ticks\":\"\"}},\"type\":\"parcoords\"}],\"pie\":[{\"automargin\":true,\"type\":\"pie\"}],\"scatter3d\":[{\"line\":{\"colorbar\":{\"outlinewidth\":0,\"ticks\":\"\"}},\"marker\":{\"colorbar\":{\"outlinewidth\":0,\"ticks\":\"\"}},\"type\":\"scatter3d\"}],\"scattercarpet\":[{\"marker\":{\"colorbar\":{\"outlinewidth\":0,\"ticks\":\"\"}},\"type\":\"scattercarpet\"}],\"scattergeo\":[{\"marker\":{\"colorbar\":{\"outlinewidth\":0,\"ticks\":\"\"}},\"type\":\"scattergeo\"}],\"scattergl\":[{\"marker\":{\"colorbar\":{\"outlinewidth\":0,\"ticks\":\"\"}},\"type\":\"scattergl\"}],\"scattermapbox\":[{\"marker\":{\"colorbar\":{\"outlinewidth\":0,\"ticks\":\"\"}},\"type\":\"scattermapbox\"}],\"scatterpolargl\":[{\"marker\":{\"colorbar\":{\"outlinewidth\":0,\"ticks\":\"\"}},\"type\":\"scatterpolargl\"}],\"scatterpolar\":[{\"marker\":{\"colorbar\":{\"outlinewidth\":0,\"ticks\":\"\"}},\"type\":\"scatterpolar\"}],\"scatter\":[{\"fillpattern\":{\"fillmode\":\"overlay\",\"size\":10,\"solidity\":0.2},\"type\":\"scatter\"}],\"scatterternary\":[{\"marker\":{\"colorbar\":{\"outlinewidth\":0,\"ticks\":\"\"}},\"type\":\"scatterternary\"}],\"surface\":[{\"colorbar\":{\"outlinewidth\":0,\"ticks\":\"\"},\"colorscale\":[[0.0,\"#0d0887\"],[0.1111111111111111,\"#46039f\"],[0.2222222222222222,\"#7201a8\"],[0.3333333333333333,\"#9c179e\"],[0.4444444444444444,\"#bd3786\"],[0.5555555555555556,\"#d8576b\"],[0.6666666666666666,\"#ed7953\"],[0.7777777777777778,\"#fb9f3a\"],[0.8888888888888888,\"#fdca26\"],[1.0,\"#f0f921\"]],\"type\":\"surface\"}],\"table\":[{\"cells\":{\"fill\":{\"color\":\"#EBF0F8\"},\"line\":{\"color\":\"white\"}},\"header\":{\"fill\":{\"color\":\"#C8D4E3\"},\"line\":{\"color\":\"white\"}},\"type\":\"table\"}]},\"layout\":{\"annotationdefaults\":{\"arrowcolor\":\"#2a3f5f\",\"arrowhead\":0,\"arrowwidth\":1},\"autotypenumbers\":\"strict\",\"coloraxis\":{\"colorbar\":{\"outlinewidth\":0,\"ticks\":\"\"}},\"colorscale\":{\"diverging\":[[0,\"#8e0152\"],[0.1,\"#c51b7d\"],[0.2,\"#de77ae\"],[0.3,\"#f1b6da\"],[0.4,\"#fde0ef\"],[0.5,\"#f7f7f7\"],[0.6,\"#e6f5d0\"],[0.7,\"#b8e186\"],[0.8,\"#7fbc41\"],[0.9,\"#4d9221\"],[1,\"#276419\"]],\"sequential\":[[0.0,\"#0d0887\"],[0.1111111111111111,\"#46039f\"],[0.2222222222222222,\"#7201a8\"],[0.3333333333333333,\"#9c179e\"],[0.4444444444444444,\"#bd3786\"],[0.5555555555555556,\"#d8576b\"],[0.6666666666666666,\"#ed7953\"],[0.7777777777777778,\"#fb9f3a\"],[0.8888888888888888,\"#fdca26\"],[1.0,\"#f0f921\"]],\"sequentialminus\":[[0.0,\"#0d0887\"],[0.1111111111111111,\"#46039f\"],[0.2222222222222222,\"#7201a8\"],[0.3333333333333333,\"#9c179e\"],[0.4444444444444444,\"#bd3786\"],[0.5555555555555556,\"#d8576b\"],[0.6666666666666666,\"#ed7953\"],[0.7777777777777778,\"#fb9f3a\"],[0.8888888888888888,\"#fdca26\"],[1.0,\"#f0f921\"]]},\"colorway\":[\"#636efa\",\"#EF553B\",\"#00cc96\",\"#ab63fa\",\"#FFA15A\",\"#19d3f3\",\"#FF6692\",\"#B6E880\",\"#FF97FF\",\"#FECB52\"],\"font\":{\"color\":\"#2a3f5f\"},\"geo\":{\"bgcolor\":\"white\",\"lakecolor\":\"white\",\"landcolor\":\"#E5ECF6\",\"showlakes\":true,\"showland\":true,\"subunitcolor\":\"white\"},\"hoverlabel\":{\"align\":\"left\"},\"hovermode\":\"closest\",\"mapbox\":{\"style\":\"light\"},\"paper_bgcolor\":\"white\",\"plot_bgcolor\":\"#E5ECF6\",\"polar\":{\"angularaxis\":{\"gridcolor\":\"white\",\"linecolor\":\"white\",\"ticks\":\"\"},\"bgcolor\":\"#E5ECF6\",\"radialaxis\":{\"gridcolor\":\"white\",\"linecolor\":\"white\",\"ticks\":\"\"}},\"scene\":{\"xaxis\":{\"backgroundcolor\":\"#E5ECF6\",\"gridcolor\":\"white\",\"gridwidth\":2,\"linecolor\":\"white\",\"showbackground\":true,\"ticks\":\"\",\"zerolinecolor\":\"white\"},\"yaxis\":{\"backgroundcolor\":\"#E5ECF6\",\"gridcolor\":\"white\",\"gridwidth\":2,\"linecolor\":\"white\",\"showbackground\":true,\"ticks\":\"\",\"zerolinecolor\":\"white\"},\"zaxis\":{\"backgroundcolor\":\"#E5ECF6\",\"gridcolor\":\"white\",\"gridwidth\":2,\"linecolor\":\"white\",\"showbackground\":true,\"ticks\":\"\",\"zerolinecolor\":\"white\"}},\"shapedefaults\":{\"line\":{\"color\":\"#2a3f5f\"}},\"ternary\":{\"aaxis\":{\"gridcolor\":\"white\",\"linecolor\":\"white\",\"ticks\":\"\"},\"baxis\":{\"gridcolor\":\"white\",\"linecolor\":\"white\",\"ticks\":\"\"},\"bgcolor\":\"#E5ECF6\",\"caxis\":{\"gridcolor\":\"white\",\"linecolor\":\"white\",\"ticks\":\"\"}},\"title\":{\"x\":0.05},\"xaxis\":{\"automargin\":true,\"gridcolor\":\"white\",\"linecolor\":\"white\",\"ticks\":\"\",\"title\":{\"standoff\":15},\"zerolinecolor\":\"white\",\"zerolinewidth\":2},\"yaxis\":{\"automargin\":true,\"gridcolor\":\"white\",\"linecolor\":\"white\",\"ticks\":\"\",\"title\":{\"standoff\":15},\"zerolinecolor\":\"white\",\"zerolinewidth\":2}}},\"title\":{\"text\":\"Ocorr\\u00eancias Roubo de Ve\\u00edculo\"},\"xaxis\":{\"rangeselector\":{\"buttons\":[{\"count\":12,\"label\":\"1yr\",\"step\":\"month\",\"stepmode\":\"backward\"},{\"count\":6,\"label\":\"6m\",\"step\":\"month\",\"stepmode\":\"backward\"},{\"step\":\"all\"}]},\"rangeslider\":{\"visible\":true},\"type\":\"date\"}},                        {\"responsive\": true}                    ).then(function(){\n",
              "                            \n",
              "var gd = document.getElementById('d412dce1-bf1b-4e24-80fa-6aa966e7d34b');\n",
              "var x = new MutationObserver(function (mutations, observer) {{\n",
              "        var display = window.getComputedStyle(gd).display;\n",
              "        if (!display || display === 'none') {{\n",
              "            console.log([gd, 'removed!']);\n",
              "            Plotly.purge(gd);\n",
              "            observer.disconnect();\n",
              "        }}\n",
              "}});\n",
              "\n",
              "// Listen for the removal of the full notebook cells\n",
              "var notebookContainer = gd.closest('#notebook-container');\n",
              "if (notebookContainer) {{\n",
              "    x.observe(notebookContainer, {childList: true});\n",
              "}}\n",
              "\n",
              "// Listen for the clearing of the current output cell\n",
              "var outputEl = gd.closest('.output');\n",
              "if (outputEl) {{\n",
              "    x.observe(outputEl, {childList: true});\n",
              "}}\n",
              "\n",
              "                        })                };                });            </script>        </div>"
            ]
          },
          "metadata": {}
        }
      ]
    },
    {
      "cell_type": "code",
      "source": [
        "ocorrencias = all_data.groupby('MES_ANO').count()['ANO_BO'].reset_index()\n",
        "ocorrencias.rename(columns={'MES_ANO': 'Data', 'ANO_BO':'Ocorrências Roubo Veículo'}, inplace=True)\n",
        "\n",
        "trace = [go.Scatter(x = ocorrencias.Data, y = ocorrencias['Ocorrências Roubo Veículo'])]\n",
        "\n",
        "layout = dict(\n",
        "    title='Ocorrências Roubo de Veículo Mês',\n",
        "    yaxis=dict(\n",
        "    title='Ocorrências'\n",
        "    ),\n",
        "    xaxis=dict(\n",
        "        rangeselector=dict(\n",
        "            buttons=list([\n",
        "                dict(count=12,\n",
        "                     label='1yr',\n",
        "                     step='month',\n",
        "                     stepmode='backward'),\n",
        "                dict(count=6,\n",
        "                     label='6m',\n",
        "                     step='month',\n",
        "                     stepmode='backward'),\n",
        "                dict(step='all')\n",
        "            ])\n",
        "        ),\n",
        "        rangeslider=dict(\n",
        "            visible = True\n",
        "        ),\n",
        "        type='date'\n",
        "    )\n",
        ")\n",
        "\n",
        "fig = dict(data=trace, layout=layout)\n",
        "py.iplot(fig)"
      ],
      "metadata": {
        "colab": {
          "base_uri": "https://localhost:8080/",
          "height": 542
        },
        "id": "hTOQotnAiH2l",
        "outputId": "220961e0-5513-4911-dfe3-ac2a066ed207"
      },
      "execution_count": 19,
      "outputs": [
        {
          "output_type": "display_data",
          "data": {
            "application/vnd.plotly.v1+json": {
              "data": [
                {
                  "x": [
                    "2010-03",
                    "2010-09",
                    "2010-11",
                    "2011-02",
                    "2011-03",
                    "2011-11",
                    "2012-11",
                    "2014-07",
                    "2016-04",
                    "2016-08",
                    "2016-11",
                    "2018-04",
                    "2018-12",
                    "2019-01",
                    "2019-04",
                    "2019-11",
                    "2020-01",
                    "2020-02",
                    "2020-03",
                    "2020-04",
                    "2020-05",
                    "2020-07",
                    "2020-08",
                    "2020-11",
                    "2021-01",
                    "2021-02",
                    "2021-03",
                    "2021-04",
                    "2021-05",
                    "2021-06",
                    "2021-07",
                    "2021-08",
                    "2021-09",
                    "2021-10",
                    "2021-11",
                    "2021-12",
                    "2022-01",
                    "2022-02",
                    "2022-03",
                    "2022-04",
                    "2022-05",
                    "2022-06",
                    "2022-07",
                    "2022-08",
                    "2022-09",
                    "2022-10",
                    "2022-11",
                    "2022-12"
                  ],
                  "y": [
                    1,
                    1,
                    1,
                    1,
                    1,
                    1,
                    2,
                    1,
                    1,
                    1,
                    1,
                    1,
                    1,
                    3,
                    1,
                    1,
                    1,
                    3,
                    1,
                    3,
                    1,
                    1,
                    3,
                    1,
                    5,
                    5,
                    4,
                    4,
                    1,
                    3,
                    1,
                    3,
                    9,
                    13,
                    24,
                    125,
                    1453,
                    1377,
                    1909,
                    1668,
                    1833,
                    1688,
                    1546,
                    1538,
                    1903,
                    2346,
                    2443,
                    2471
                  ],
                  "type": "scatter"
                }
              ],
              "layout": {
                "template": {
                  "data": {
                    "barpolar": [
                      {
                        "marker": {
                          "line": {
                            "color": "#E5ECF6",
                            "width": 0.5
                          },
                          "pattern": {
                            "fillmode": "overlay",
                            "size": 10,
                            "solidity": 0.2
                          }
                        },
                        "type": "barpolar"
                      }
                    ],
                    "bar": [
                      {
                        "error_x": {
                          "color": "#2a3f5f"
                        },
                        "error_y": {
                          "color": "#2a3f5f"
                        },
                        "marker": {
                          "line": {
                            "color": "#E5ECF6",
                            "width": 0.5
                          },
                          "pattern": {
                            "fillmode": "overlay",
                            "size": 10,
                            "solidity": 0.2
                          }
                        },
                        "type": "bar"
                      }
                    ],
                    "carpet": [
                      {
                        "aaxis": {
                          "endlinecolor": "#2a3f5f",
                          "gridcolor": "white",
                          "linecolor": "white",
                          "minorgridcolor": "white",
                          "startlinecolor": "#2a3f5f"
                        },
                        "baxis": {
                          "endlinecolor": "#2a3f5f",
                          "gridcolor": "white",
                          "linecolor": "white",
                          "minorgridcolor": "white",
                          "startlinecolor": "#2a3f5f"
                        },
                        "type": "carpet"
                      }
                    ],
                    "choropleth": [
                      {
                        "colorbar": {
                          "outlinewidth": 0,
                          "ticks": ""
                        },
                        "type": "choropleth"
                      }
                    ],
                    "contourcarpet": [
                      {
                        "colorbar": {
                          "outlinewidth": 0,
                          "ticks": ""
                        },
                        "type": "contourcarpet"
                      }
                    ],
                    "contour": [
                      {
                        "colorbar": {
                          "outlinewidth": 0,
                          "ticks": ""
                        },
                        "colorscale": [
                          [
                            0,
                            "#0d0887"
                          ],
                          [
                            0.1111111111111111,
                            "#46039f"
                          ],
                          [
                            0.2222222222222222,
                            "#7201a8"
                          ],
                          [
                            0.3333333333333333,
                            "#9c179e"
                          ],
                          [
                            0.4444444444444444,
                            "#bd3786"
                          ],
                          [
                            0.5555555555555556,
                            "#d8576b"
                          ],
                          [
                            0.6666666666666666,
                            "#ed7953"
                          ],
                          [
                            0.7777777777777778,
                            "#fb9f3a"
                          ],
                          [
                            0.8888888888888888,
                            "#fdca26"
                          ],
                          [
                            1,
                            "#f0f921"
                          ]
                        ],
                        "type": "contour"
                      }
                    ],
                    "heatmapgl": [
                      {
                        "colorbar": {
                          "outlinewidth": 0,
                          "ticks": ""
                        },
                        "colorscale": [
                          [
                            0,
                            "#0d0887"
                          ],
                          [
                            0.1111111111111111,
                            "#46039f"
                          ],
                          [
                            0.2222222222222222,
                            "#7201a8"
                          ],
                          [
                            0.3333333333333333,
                            "#9c179e"
                          ],
                          [
                            0.4444444444444444,
                            "#bd3786"
                          ],
                          [
                            0.5555555555555556,
                            "#d8576b"
                          ],
                          [
                            0.6666666666666666,
                            "#ed7953"
                          ],
                          [
                            0.7777777777777778,
                            "#fb9f3a"
                          ],
                          [
                            0.8888888888888888,
                            "#fdca26"
                          ],
                          [
                            1,
                            "#f0f921"
                          ]
                        ],
                        "type": "heatmapgl"
                      }
                    ],
                    "heatmap": [
                      {
                        "colorbar": {
                          "outlinewidth": 0,
                          "ticks": ""
                        },
                        "colorscale": [
                          [
                            0,
                            "#0d0887"
                          ],
                          [
                            0.1111111111111111,
                            "#46039f"
                          ],
                          [
                            0.2222222222222222,
                            "#7201a8"
                          ],
                          [
                            0.3333333333333333,
                            "#9c179e"
                          ],
                          [
                            0.4444444444444444,
                            "#bd3786"
                          ],
                          [
                            0.5555555555555556,
                            "#d8576b"
                          ],
                          [
                            0.6666666666666666,
                            "#ed7953"
                          ],
                          [
                            0.7777777777777778,
                            "#fb9f3a"
                          ],
                          [
                            0.8888888888888888,
                            "#fdca26"
                          ],
                          [
                            1,
                            "#f0f921"
                          ]
                        ],
                        "type": "heatmap"
                      }
                    ],
                    "histogram2dcontour": [
                      {
                        "colorbar": {
                          "outlinewidth": 0,
                          "ticks": ""
                        },
                        "colorscale": [
                          [
                            0,
                            "#0d0887"
                          ],
                          [
                            0.1111111111111111,
                            "#46039f"
                          ],
                          [
                            0.2222222222222222,
                            "#7201a8"
                          ],
                          [
                            0.3333333333333333,
                            "#9c179e"
                          ],
                          [
                            0.4444444444444444,
                            "#bd3786"
                          ],
                          [
                            0.5555555555555556,
                            "#d8576b"
                          ],
                          [
                            0.6666666666666666,
                            "#ed7953"
                          ],
                          [
                            0.7777777777777778,
                            "#fb9f3a"
                          ],
                          [
                            0.8888888888888888,
                            "#fdca26"
                          ],
                          [
                            1,
                            "#f0f921"
                          ]
                        ],
                        "type": "histogram2dcontour"
                      }
                    ],
                    "histogram2d": [
                      {
                        "colorbar": {
                          "outlinewidth": 0,
                          "ticks": ""
                        },
                        "colorscale": [
                          [
                            0,
                            "#0d0887"
                          ],
                          [
                            0.1111111111111111,
                            "#46039f"
                          ],
                          [
                            0.2222222222222222,
                            "#7201a8"
                          ],
                          [
                            0.3333333333333333,
                            "#9c179e"
                          ],
                          [
                            0.4444444444444444,
                            "#bd3786"
                          ],
                          [
                            0.5555555555555556,
                            "#d8576b"
                          ],
                          [
                            0.6666666666666666,
                            "#ed7953"
                          ],
                          [
                            0.7777777777777778,
                            "#fb9f3a"
                          ],
                          [
                            0.8888888888888888,
                            "#fdca26"
                          ],
                          [
                            1,
                            "#f0f921"
                          ]
                        ],
                        "type": "histogram2d"
                      }
                    ],
                    "histogram": [
                      {
                        "marker": {
                          "pattern": {
                            "fillmode": "overlay",
                            "size": 10,
                            "solidity": 0.2
                          }
                        },
                        "type": "histogram"
                      }
                    ],
                    "mesh3d": [
                      {
                        "colorbar": {
                          "outlinewidth": 0,
                          "ticks": ""
                        },
                        "type": "mesh3d"
                      }
                    ],
                    "parcoords": [
                      {
                        "line": {
                          "colorbar": {
                            "outlinewidth": 0,
                            "ticks": ""
                          }
                        },
                        "type": "parcoords"
                      }
                    ],
                    "pie": [
                      {
                        "automargin": true,
                        "type": "pie"
                      }
                    ],
                    "scatter3d": [
                      {
                        "line": {
                          "colorbar": {
                            "outlinewidth": 0,
                            "ticks": ""
                          }
                        },
                        "marker": {
                          "colorbar": {
                            "outlinewidth": 0,
                            "ticks": ""
                          }
                        },
                        "type": "scatter3d"
                      }
                    ],
                    "scattercarpet": [
                      {
                        "marker": {
                          "colorbar": {
                            "outlinewidth": 0,
                            "ticks": ""
                          }
                        },
                        "type": "scattercarpet"
                      }
                    ],
                    "scattergeo": [
                      {
                        "marker": {
                          "colorbar": {
                            "outlinewidth": 0,
                            "ticks": ""
                          }
                        },
                        "type": "scattergeo"
                      }
                    ],
                    "scattergl": [
                      {
                        "marker": {
                          "colorbar": {
                            "outlinewidth": 0,
                            "ticks": ""
                          }
                        },
                        "type": "scattergl"
                      }
                    ],
                    "scattermapbox": [
                      {
                        "marker": {
                          "colorbar": {
                            "outlinewidth": 0,
                            "ticks": ""
                          }
                        },
                        "type": "scattermapbox"
                      }
                    ],
                    "scatterpolargl": [
                      {
                        "marker": {
                          "colorbar": {
                            "outlinewidth": 0,
                            "ticks": ""
                          }
                        },
                        "type": "scatterpolargl"
                      }
                    ],
                    "scatterpolar": [
                      {
                        "marker": {
                          "colorbar": {
                            "outlinewidth": 0,
                            "ticks": ""
                          }
                        },
                        "type": "scatterpolar"
                      }
                    ],
                    "scatter": [
                      {
                        "fillpattern": {
                          "fillmode": "overlay",
                          "size": 10,
                          "solidity": 0.2
                        },
                        "type": "scatter"
                      }
                    ],
                    "scatterternary": [
                      {
                        "marker": {
                          "colorbar": {
                            "outlinewidth": 0,
                            "ticks": ""
                          }
                        },
                        "type": "scatterternary"
                      }
                    ],
                    "surface": [
                      {
                        "colorbar": {
                          "outlinewidth": 0,
                          "ticks": ""
                        },
                        "colorscale": [
                          [
                            0,
                            "#0d0887"
                          ],
                          [
                            0.1111111111111111,
                            "#46039f"
                          ],
                          [
                            0.2222222222222222,
                            "#7201a8"
                          ],
                          [
                            0.3333333333333333,
                            "#9c179e"
                          ],
                          [
                            0.4444444444444444,
                            "#bd3786"
                          ],
                          [
                            0.5555555555555556,
                            "#d8576b"
                          ],
                          [
                            0.6666666666666666,
                            "#ed7953"
                          ],
                          [
                            0.7777777777777778,
                            "#fb9f3a"
                          ],
                          [
                            0.8888888888888888,
                            "#fdca26"
                          ],
                          [
                            1,
                            "#f0f921"
                          ]
                        ],
                        "type": "surface"
                      }
                    ],
                    "table": [
                      {
                        "cells": {
                          "fill": {
                            "color": "#EBF0F8"
                          },
                          "line": {
                            "color": "white"
                          }
                        },
                        "header": {
                          "fill": {
                            "color": "#C8D4E3"
                          },
                          "line": {
                            "color": "white"
                          }
                        },
                        "type": "table"
                      }
                    ]
                  },
                  "layout": {
                    "annotationdefaults": {
                      "arrowcolor": "#2a3f5f",
                      "arrowhead": 0,
                      "arrowwidth": 1
                    },
                    "autotypenumbers": "strict",
                    "coloraxis": {
                      "colorbar": {
                        "outlinewidth": 0,
                        "ticks": ""
                      }
                    },
                    "colorscale": {
                      "diverging": [
                        [
                          0,
                          "#8e0152"
                        ],
                        [
                          0.1,
                          "#c51b7d"
                        ],
                        [
                          0.2,
                          "#de77ae"
                        ],
                        [
                          0.3,
                          "#f1b6da"
                        ],
                        [
                          0.4,
                          "#fde0ef"
                        ],
                        [
                          0.5,
                          "#f7f7f7"
                        ],
                        [
                          0.6,
                          "#e6f5d0"
                        ],
                        [
                          0.7,
                          "#b8e186"
                        ],
                        [
                          0.8,
                          "#7fbc41"
                        ],
                        [
                          0.9,
                          "#4d9221"
                        ],
                        [
                          1,
                          "#276419"
                        ]
                      ],
                      "sequential": [
                        [
                          0,
                          "#0d0887"
                        ],
                        [
                          0.1111111111111111,
                          "#46039f"
                        ],
                        [
                          0.2222222222222222,
                          "#7201a8"
                        ],
                        [
                          0.3333333333333333,
                          "#9c179e"
                        ],
                        [
                          0.4444444444444444,
                          "#bd3786"
                        ],
                        [
                          0.5555555555555556,
                          "#d8576b"
                        ],
                        [
                          0.6666666666666666,
                          "#ed7953"
                        ],
                        [
                          0.7777777777777778,
                          "#fb9f3a"
                        ],
                        [
                          0.8888888888888888,
                          "#fdca26"
                        ],
                        [
                          1,
                          "#f0f921"
                        ]
                      ],
                      "sequentialminus": [
                        [
                          0,
                          "#0d0887"
                        ],
                        [
                          0.1111111111111111,
                          "#46039f"
                        ],
                        [
                          0.2222222222222222,
                          "#7201a8"
                        ],
                        [
                          0.3333333333333333,
                          "#9c179e"
                        ],
                        [
                          0.4444444444444444,
                          "#bd3786"
                        ],
                        [
                          0.5555555555555556,
                          "#d8576b"
                        ],
                        [
                          0.6666666666666666,
                          "#ed7953"
                        ],
                        [
                          0.7777777777777778,
                          "#fb9f3a"
                        ],
                        [
                          0.8888888888888888,
                          "#fdca26"
                        ],
                        [
                          1,
                          "#f0f921"
                        ]
                      ]
                    },
                    "colorway": [
                      "#636efa",
                      "#EF553B",
                      "#00cc96",
                      "#ab63fa",
                      "#FFA15A",
                      "#19d3f3",
                      "#FF6692",
                      "#B6E880",
                      "#FF97FF",
                      "#FECB52"
                    ],
                    "font": {
                      "color": "#2a3f5f"
                    },
                    "geo": {
                      "bgcolor": "white",
                      "lakecolor": "white",
                      "landcolor": "#E5ECF6",
                      "showlakes": true,
                      "showland": true,
                      "subunitcolor": "white"
                    },
                    "hoverlabel": {
                      "align": "left"
                    },
                    "hovermode": "closest",
                    "mapbox": {
                      "style": "light"
                    },
                    "paper_bgcolor": "white",
                    "plot_bgcolor": "#E5ECF6",
                    "polar": {
                      "angularaxis": {
                        "gridcolor": "white",
                        "linecolor": "white",
                        "ticks": ""
                      },
                      "bgcolor": "#E5ECF6",
                      "radialaxis": {
                        "gridcolor": "white",
                        "linecolor": "white",
                        "ticks": ""
                      }
                    },
                    "scene": {
                      "xaxis": {
                        "backgroundcolor": "#E5ECF6",
                        "gridcolor": "white",
                        "gridwidth": 2,
                        "linecolor": "white",
                        "showbackground": true,
                        "ticks": "",
                        "zerolinecolor": "white"
                      },
                      "yaxis": {
                        "backgroundcolor": "#E5ECF6",
                        "gridcolor": "white",
                        "gridwidth": 2,
                        "linecolor": "white",
                        "showbackground": true,
                        "ticks": "",
                        "zerolinecolor": "white"
                      },
                      "zaxis": {
                        "backgroundcolor": "#E5ECF6",
                        "gridcolor": "white",
                        "gridwidth": 2,
                        "linecolor": "white",
                        "showbackground": true,
                        "ticks": "",
                        "zerolinecolor": "white"
                      }
                    },
                    "shapedefaults": {
                      "line": {
                        "color": "#2a3f5f"
                      }
                    },
                    "ternary": {
                      "aaxis": {
                        "gridcolor": "white",
                        "linecolor": "white",
                        "ticks": ""
                      },
                      "baxis": {
                        "gridcolor": "white",
                        "linecolor": "white",
                        "ticks": ""
                      },
                      "bgcolor": "#E5ECF6",
                      "caxis": {
                        "gridcolor": "white",
                        "linecolor": "white",
                        "ticks": ""
                      }
                    },
                    "title": {
                      "x": 0.05
                    },
                    "xaxis": {
                      "automargin": true,
                      "gridcolor": "white",
                      "linecolor": "white",
                      "ticks": "",
                      "title": {
                        "standoff": 15
                      },
                      "zerolinecolor": "white",
                      "zerolinewidth": 2
                    },
                    "yaxis": {
                      "automargin": true,
                      "gridcolor": "white",
                      "linecolor": "white",
                      "ticks": "",
                      "title": {
                        "standoff": 15
                      },
                      "zerolinecolor": "white",
                      "zerolinewidth": 2
                    }
                  }
                },
                "title": {
                  "text": "Ocorrências Roubo de Veículo Mês"
                },
                "xaxis": {
                  "rangeselector": {
                    "buttons": [
                      {
                        "count": 12,
                        "label": "1yr",
                        "step": "month",
                        "stepmode": "backward"
                      },
                      {
                        "count": 6,
                        "label": "6m",
                        "step": "month",
                        "stepmode": "backward"
                      },
                      {
                        "step": "all"
                      }
                    ]
                  },
                  "rangeslider": {
                    "visible": true
                  },
                  "type": "date"
                },
                "yaxis": {
                  "title": {
                    "text": "Ocorrências"
                  }
                }
              },
              "config": {
                "showLink": false,
                "linkText": "Export to plot.ly",
                "plotlyServerURL": "https://plot.ly"
              }
            },
            "text/html": [
              "<div>                            <div id=\"538183d7-3d89-4519-91cc-6eb6306b0923\" class=\"plotly-graph-div\" style=\"height:525px; width:100%;\"></div>            <script type=\"text/javascript\">                require([\"plotly\"], function(Plotly) {                    window.PLOTLYENV=window.PLOTLYENV || {};                                    if (document.getElementById(\"538183d7-3d89-4519-91cc-6eb6306b0923\")) {                    Plotly.newPlot(                        \"538183d7-3d89-4519-91cc-6eb6306b0923\",                        [{\"x\":[\"2010-03\",\"2010-09\",\"2010-11\",\"2011-02\",\"2011-03\",\"2011-11\",\"2012-11\",\"2014-07\",\"2016-04\",\"2016-08\",\"2016-11\",\"2018-04\",\"2018-12\",\"2019-01\",\"2019-04\",\"2019-11\",\"2020-01\",\"2020-02\",\"2020-03\",\"2020-04\",\"2020-05\",\"2020-07\",\"2020-08\",\"2020-11\",\"2021-01\",\"2021-02\",\"2021-03\",\"2021-04\",\"2021-05\",\"2021-06\",\"2021-07\",\"2021-08\",\"2021-09\",\"2021-10\",\"2021-11\",\"2021-12\",\"2022-01\",\"2022-02\",\"2022-03\",\"2022-04\",\"2022-05\",\"2022-06\",\"2022-07\",\"2022-08\",\"2022-09\",\"2022-10\",\"2022-11\",\"2022-12\"],\"y\":[1,1,1,1,1,1,2,1,1,1,1,1,1,3,1,1,1,3,1,3,1,1,3,1,5,5,4,4,1,3,1,3,9,13,24,125,1453,1377,1909,1668,1833,1688,1546,1538,1903,2346,2443,2471],\"type\":\"scatter\"}],                        {\"template\":{\"data\":{\"barpolar\":[{\"marker\":{\"line\":{\"color\":\"#E5ECF6\",\"width\":0.5},\"pattern\":{\"fillmode\":\"overlay\",\"size\":10,\"solidity\":0.2}},\"type\":\"barpolar\"}],\"bar\":[{\"error_x\":{\"color\":\"#2a3f5f\"},\"error_y\":{\"color\":\"#2a3f5f\"},\"marker\":{\"line\":{\"color\":\"#E5ECF6\",\"width\":0.5},\"pattern\":{\"fillmode\":\"overlay\",\"size\":10,\"solidity\":0.2}},\"type\":\"bar\"}],\"carpet\":[{\"aaxis\":{\"endlinecolor\":\"#2a3f5f\",\"gridcolor\":\"white\",\"linecolor\":\"white\",\"minorgridcolor\":\"white\",\"startlinecolor\":\"#2a3f5f\"},\"baxis\":{\"endlinecolor\":\"#2a3f5f\",\"gridcolor\":\"white\",\"linecolor\":\"white\",\"minorgridcolor\":\"white\",\"startlinecolor\":\"#2a3f5f\"},\"type\":\"carpet\"}],\"choropleth\":[{\"colorbar\":{\"outlinewidth\":0,\"ticks\":\"\"},\"type\":\"choropleth\"}],\"contourcarpet\":[{\"colorbar\":{\"outlinewidth\":0,\"ticks\":\"\"},\"type\":\"contourcarpet\"}],\"contour\":[{\"colorbar\":{\"outlinewidth\":0,\"ticks\":\"\"},\"colorscale\":[[0.0,\"#0d0887\"],[0.1111111111111111,\"#46039f\"],[0.2222222222222222,\"#7201a8\"],[0.3333333333333333,\"#9c179e\"],[0.4444444444444444,\"#bd3786\"],[0.5555555555555556,\"#d8576b\"],[0.6666666666666666,\"#ed7953\"],[0.7777777777777778,\"#fb9f3a\"],[0.8888888888888888,\"#fdca26\"],[1.0,\"#f0f921\"]],\"type\":\"contour\"}],\"heatmapgl\":[{\"colorbar\":{\"outlinewidth\":0,\"ticks\":\"\"},\"colorscale\":[[0.0,\"#0d0887\"],[0.1111111111111111,\"#46039f\"],[0.2222222222222222,\"#7201a8\"],[0.3333333333333333,\"#9c179e\"],[0.4444444444444444,\"#bd3786\"],[0.5555555555555556,\"#d8576b\"],[0.6666666666666666,\"#ed7953\"],[0.7777777777777778,\"#fb9f3a\"],[0.8888888888888888,\"#fdca26\"],[1.0,\"#f0f921\"]],\"type\":\"heatmapgl\"}],\"heatmap\":[{\"colorbar\":{\"outlinewidth\":0,\"ticks\":\"\"},\"colorscale\":[[0.0,\"#0d0887\"],[0.1111111111111111,\"#46039f\"],[0.2222222222222222,\"#7201a8\"],[0.3333333333333333,\"#9c179e\"],[0.4444444444444444,\"#bd3786\"],[0.5555555555555556,\"#d8576b\"],[0.6666666666666666,\"#ed7953\"],[0.7777777777777778,\"#fb9f3a\"],[0.8888888888888888,\"#fdca26\"],[1.0,\"#f0f921\"]],\"type\":\"heatmap\"}],\"histogram2dcontour\":[{\"colorbar\":{\"outlinewidth\":0,\"ticks\":\"\"},\"colorscale\":[[0.0,\"#0d0887\"],[0.1111111111111111,\"#46039f\"],[0.2222222222222222,\"#7201a8\"],[0.3333333333333333,\"#9c179e\"],[0.4444444444444444,\"#bd3786\"],[0.5555555555555556,\"#d8576b\"],[0.6666666666666666,\"#ed7953\"],[0.7777777777777778,\"#fb9f3a\"],[0.8888888888888888,\"#fdca26\"],[1.0,\"#f0f921\"]],\"type\":\"histogram2dcontour\"}],\"histogram2d\":[{\"colorbar\":{\"outlinewidth\":0,\"ticks\":\"\"},\"colorscale\":[[0.0,\"#0d0887\"],[0.1111111111111111,\"#46039f\"],[0.2222222222222222,\"#7201a8\"],[0.3333333333333333,\"#9c179e\"],[0.4444444444444444,\"#bd3786\"],[0.5555555555555556,\"#d8576b\"],[0.6666666666666666,\"#ed7953\"],[0.7777777777777778,\"#fb9f3a\"],[0.8888888888888888,\"#fdca26\"],[1.0,\"#f0f921\"]],\"type\":\"histogram2d\"}],\"histogram\":[{\"marker\":{\"pattern\":{\"fillmode\":\"overlay\",\"size\":10,\"solidity\":0.2}},\"type\":\"histogram\"}],\"mesh3d\":[{\"colorbar\":{\"outlinewidth\":0,\"ticks\":\"\"},\"type\":\"mesh3d\"}],\"parcoords\":[{\"line\":{\"colorbar\":{\"outlinewidth\":0,\"ticks\":\"\"}},\"type\":\"parcoords\"}],\"pie\":[{\"automargin\":true,\"type\":\"pie\"}],\"scatter3d\":[{\"line\":{\"colorbar\":{\"outlinewidth\":0,\"ticks\":\"\"}},\"marker\":{\"colorbar\":{\"outlinewidth\":0,\"ticks\":\"\"}},\"type\":\"scatter3d\"}],\"scattercarpet\":[{\"marker\":{\"colorbar\":{\"outlinewidth\":0,\"ticks\":\"\"}},\"type\":\"scattercarpet\"}],\"scattergeo\":[{\"marker\":{\"colorbar\":{\"outlinewidth\":0,\"ticks\":\"\"}},\"type\":\"scattergeo\"}],\"scattergl\":[{\"marker\":{\"colorbar\":{\"outlinewidth\":0,\"ticks\":\"\"}},\"type\":\"scattergl\"}],\"scattermapbox\":[{\"marker\":{\"colorbar\":{\"outlinewidth\":0,\"ticks\":\"\"}},\"type\":\"scattermapbox\"}],\"scatterpolargl\":[{\"marker\":{\"colorbar\":{\"outlinewidth\":0,\"ticks\":\"\"}},\"type\":\"scatterpolargl\"}],\"scatterpolar\":[{\"marker\":{\"colorbar\":{\"outlinewidth\":0,\"ticks\":\"\"}},\"type\":\"scatterpolar\"}],\"scatter\":[{\"fillpattern\":{\"fillmode\":\"overlay\",\"size\":10,\"solidity\":0.2},\"type\":\"scatter\"}],\"scatterternary\":[{\"marker\":{\"colorbar\":{\"outlinewidth\":0,\"ticks\":\"\"}},\"type\":\"scatterternary\"}],\"surface\":[{\"colorbar\":{\"outlinewidth\":0,\"ticks\":\"\"},\"colorscale\":[[0.0,\"#0d0887\"],[0.1111111111111111,\"#46039f\"],[0.2222222222222222,\"#7201a8\"],[0.3333333333333333,\"#9c179e\"],[0.4444444444444444,\"#bd3786\"],[0.5555555555555556,\"#d8576b\"],[0.6666666666666666,\"#ed7953\"],[0.7777777777777778,\"#fb9f3a\"],[0.8888888888888888,\"#fdca26\"],[1.0,\"#f0f921\"]],\"type\":\"surface\"}],\"table\":[{\"cells\":{\"fill\":{\"color\":\"#EBF0F8\"},\"line\":{\"color\":\"white\"}},\"header\":{\"fill\":{\"color\":\"#C8D4E3\"},\"line\":{\"color\":\"white\"}},\"type\":\"table\"}]},\"layout\":{\"annotationdefaults\":{\"arrowcolor\":\"#2a3f5f\",\"arrowhead\":0,\"arrowwidth\":1},\"autotypenumbers\":\"strict\",\"coloraxis\":{\"colorbar\":{\"outlinewidth\":0,\"ticks\":\"\"}},\"colorscale\":{\"diverging\":[[0,\"#8e0152\"],[0.1,\"#c51b7d\"],[0.2,\"#de77ae\"],[0.3,\"#f1b6da\"],[0.4,\"#fde0ef\"],[0.5,\"#f7f7f7\"],[0.6,\"#e6f5d0\"],[0.7,\"#b8e186\"],[0.8,\"#7fbc41\"],[0.9,\"#4d9221\"],[1,\"#276419\"]],\"sequential\":[[0.0,\"#0d0887\"],[0.1111111111111111,\"#46039f\"],[0.2222222222222222,\"#7201a8\"],[0.3333333333333333,\"#9c179e\"],[0.4444444444444444,\"#bd3786\"],[0.5555555555555556,\"#d8576b\"],[0.6666666666666666,\"#ed7953\"],[0.7777777777777778,\"#fb9f3a\"],[0.8888888888888888,\"#fdca26\"],[1.0,\"#f0f921\"]],\"sequentialminus\":[[0.0,\"#0d0887\"],[0.1111111111111111,\"#46039f\"],[0.2222222222222222,\"#7201a8\"],[0.3333333333333333,\"#9c179e\"],[0.4444444444444444,\"#bd3786\"],[0.5555555555555556,\"#d8576b\"],[0.6666666666666666,\"#ed7953\"],[0.7777777777777778,\"#fb9f3a\"],[0.8888888888888888,\"#fdca26\"],[1.0,\"#f0f921\"]]},\"colorway\":[\"#636efa\",\"#EF553B\",\"#00cc96\",\"#ab63fa\",\"#FFA15A\",\"#19d3f3\",\"#FF6692\",\"#B6E880\",\"#FF97FF\",\"#FECB52\"],\"font\":{\"color\":\"#2a3f5f\"},\"geo\":{\"bgcolor\":\"white\",\"lakecolor\":\"white\",\"landcolor\":\"#E5ECF6\",\"showlakes\":true,\"showland\":true,\"subunitcolor\":\"white\"},\"hoverlabel\":{\"align\":\"left\"},\"hovermode\":\"closest\",\"mapbox\":{\"style\":\"light\"},\"paper_bgcolor\":\"white\",\"plot_bgcolor\":\"#E5ECF6\",\"polar\":{\"angularaxis\":{\"gridcolor\":\"white\",\"linecolor\":\"white\",\"ticks\":\"\"},\"bgcolor\":\"#E5ECF6\",\"radialaxis\":{\"gridcolor\":\"white\",\"linecolor\":\"white\",\"ticks\":\"\"}},\"scene\":{\"xaxis\":{\"backgroundcolor\":\"#E5ECF6\",\"gridcolor\":\"white\",\"gridwidth\":2,\"linecolor\":\"white\",\"showbackground\":true,\"ticks\":\"\",\"zerolinecolor\":\"white\"},\"yaxis\":{\"backgroundcolor\":\"#E5ECF6\",\"gridcolor\":\"white\",\"gridwidth\":2,\"linecolor\":\"white\",\"showbackground\":true,\"ticks\":\"\",\"zerolinecolor\":\"white\"},\"zaxis\":{\"backgroundcolor\":\"#E5ECF6\",\"gridcolor\":\"white\",\"gridwidth\":2,\"linecolor\":\"white\",\"showbackground\":true,\"ticks\":\"\",\"zerolinecolor\":\"white\"}},\"shapedefaults\":{\"line\":{\"color\":\"#2a3f5f\"}},\"ternary\":{\"aaxis\":{\"gridcolor\":\"white\",\"linecolor\":\"white\",\"ticks\":\"\"},\"baxis\":{\"gridcolor\":\"white\",\"linecolor\":\"white\",\"ticks\":\"\"},\"bgcolor\":\"#E5ECF6\",\"caxis\":{\"gridcolor\":\"white\",\"linecolor\":\"white\",\"ticks\":\"\"}},\"title\":{\"x\":0.05},\"xaxis\":{\"automargin\":true,\"gridcolor\":\"white\",\"linecolor\":\"white\",\"ticks\":\"\",\"title\":{\"standoff\":15},\"zerolinecolor\":\"white\",\"zerolinewidth\":2},\"yaxis\":{\"automargin\":true,\"gridcolor\":\"white\",\"linecolor\":\"white\",\"ticks\":\"\",\"title\":{\"standoff\":15},\"zerolinecolor\":\"white\",\"zerolinewidth\":2}}},\"title\":{\"text\":\"Ocorr\\u00eancias Roubo de Ve\\u00edculo M\\u00eas\"},\"xaxis\":{\"rangeselector\":{\"buttons\":[{\"count\":12,\"label\":\"1yr\",\"step\":\"month\",\"stepmode\":\"backward\"},{\"count\":6,\"label\":\"6m\",\"step\":\"month\",\"stepmode\":\"backward\"},{\"step\":\"all\"}]},\"rangeslider\":{\"visible\":true},\"type\":\"date\"},\"yaxis\":{\"title\":{\"text\":\"Ocorr\\u00eancias\"}}},                        {\"responsive\": true}                    ).then(function(){\n",
              "                            \n",
              "var gd = document.getElementById('538183d7-3d89-4519-91cc-6eb6306b0923');\n",
              "var x = new MutationObserver(function (mutations, observer) {{\n",
              "        var display = window.getComputedStyle(gd).display;\n",
              "        if (!display || display === 'none') {{\n",
              "            console.log([gd, 'removed!']);\n",
              "            Plotly.purge(gd);\n",
              "            observer.disconnect();\n",
              "        }}\n",
              "}});\n",
              "\n",
              "// Listen for the removal of the full notebook cells\n",
              "var notebookContainer = gd.closest('#notebook-container');\n",
              "if (notebookContainer) {{\n",
              "    x.observe(notebookContainer, {childList: true});\n",
              "}}\n",
              "\n",
              "// Listen for the clearing of the current output cell\n",
              "var outputEl = gd.closest('.output');\n",
              "if (outputEl) {{\n",
              "    x.observe(outputEl, {childList: true});\n",
              "}}\n",
              "\n",
              "                        })                };                });            </script>        </div>"
            ]
          },
          "metadata": {}
        }
      ]
    },
    {
      "cell_type": "markdown",
      "source": [
        "Podemos notar uma tendência de aumento no número de ocorrência de roubo de veículo. Alguns dos fatores que podem explicar esse aumento são:\n",
        "\n",
        "- Parada em semáforo de regiões classificadas como perigosas.\n",
        "- Utilização de ruas com falta de iluminação, pouco ou nenhum policiamento e sinal de telefonia fraco.\n",
        "- Objetos deixados em veículos."
      ],
      "metadata": {
        "id": "H2D1dRkRik5H"
      }
    },
    {
      "cell_type": "markdown",
      "source": [
        "**Variações ocorrências por ano**"
      ],
      "metadata": {
        "id": "UBeKqujqiqPL"
      }
    },
    {
      "cell_type": "code",
      "source": [
        "all_data.ANO_BO = all_data.ANO_BO.astype(int)\n",
        "ocorrencias_ano = all_data.groupby('ANO_BO').count()['DATAOCORRENCIA'].reset_index()\n",
        "ocorrencias_ano['VARIACAO'] = 0\n",
        "ocorrencias_ano['VARIACAO_ACUMULADA'] = 0\n",
        "\n",
        "for i in range (0, 8):\n",
        "    ocorrencias_ano.iloc[i+1, 2] = round((1 - (ocorrencias_ano.iloc[i, 1] / ocorrencias_ano.iloc[i+1, 1])) * 100, 2)\n",
        "    ocorrencias_ano.iloc[i+1, 3] = round((ocorrencias_ano.iloc[i, 3] + ocorrencias_ano.iloc[i+1, 2]), 2)\n",
        "\n",
        "ocorrencias_ano.VARIACAO = ocorrencias_ano.VARIACAO.astype(str) + ' %'\n",
        "ocorrencias_ano.VARIACAO_ACUMULADA = ocorrencias_ano.VARIACAO_ACUMULADA.astype(str) + ' %'\n",
        "\n",
        "ocorrencias_ano"
      ],
      "metadata": {
        "id": "VJ3ZQRIciWxV"
      },
      "execution_count": null,
      "outputs": []
    },
    {
      "cell_type": "code",
      "source": [
        "data = [\n",
        "    go.Bar(\n",
        "        x = ocorrencias_ano.ANO_BO.values[1:],\n",
        "        y = ocorrencias_ano.VARIACAO.values[1:],\n",
        "        marker = dict(\n",
        "          color = ['green', 'green', 'green', 'green', 'red', 'green', 'red', 'red']\n",
        "        ),\n",
        "        name = 'Variação com ano anterior'\n",
        "    ),\n",
        "    go.Scatter(\n",
        "        x = ocorrencias_ano.ANO_BO.values[1:],\n",
        "        y = ocorrencias_ano.VARIACAO_ACUMULADA.values[1:],\n",
        "        marker = dict(\n",
        "          color = 'blue'\n",
        "        ),\n",
        "        name = 'Variação acumulada'\n",
        "    )\n",
        "]\n",
        "\n",
        "layout = dict(\n",
        "    title='Variação do Número de Ocorrências de Roubo de Veículo',\n",
        "    yaxis=dict(\n",
        "        title='Variação (%)',\n",
        "        ),\n",
        "    )\n",
        "\n",
        "fig = dict(data=data, layout=layout)\n",
        "py.iplot(fig)"
      ],
      "metadata": {
        "id": "N9Mc6AcIi6Rk"
      },
      "execution_count": null,
      "outputs": []
    },
    {
      "cell_type": "code",
      "source": [
        "all_data['diasemana'] = pd.Categorical(all_data['diasemana'], categories=['Monday','Tuesday','Wednesday','Thursday','Friday','Saturday', 'Sunday'], ordered=True)\n",
        "\n",
        "trace = [go.Bar(\n",
        "            x = all_data['diasemana'].value_counts().sort_index().index,\n",
        "            y = all_data['diasemana'].value_counts().sort_index().values,\n",
        "            textposition = 'auto',\n",
        "            marker=dict(\n",
        "                color='rgb(158,202,225)',\n",
        "                line=dict(\n",
        "                    color='rgb(8,48,107)',\n",
        "                    width=1,\n",
        "                    )\n",
        "                ),\n",
        "            opacity=0.8\n",
        ")]\n",
        "\n",
        "layout = go.Layout(\n",
        "    title='Ocorrências de Roubo de Veículo na Semana (2019 - 2022)',\n",
        "    yaxis=dict(\n",
        "        title='Ocorrências'\n",
        "        ),\n",
        ")\n",
        "\n",
        "fig = go.Figure(data=trace, layout=layout)\n",
        "\n",
        "py.iplot(fig)"
      ],
      "metadata": {
        "id": "8sHZYQtIjBFk"
      },
      "execution_count": null,
      "outputs": []
    },
    {
      "cell_type": "code",
      "source": [
        "colors = ['#170B3B', '#A9D0F5', '#08088A', '#DBA901']\n",
        "\n",
        "trace = [go.Pie(labels=all_data.PERIDOOCORRENCIA.unique(), values=all_data.PERIDOOCORRENCIA.value_counts().values,\n",
        "               hoverinfo='label+percent',\n",
        "               textfont=dict(size=18),\n",
        "               marker=dict(colors=colors,\n",
        "                           line=dict(color='#000000', width=2)))]\n",
        "\n",
        "layout = go.Layout(\n",
        "    title='Período das Ocorrências de Roubo de Veículo (2019 - 2022)'\n",
        ")\n",
        "\n",
        "fig = go.Figure(data = trace, layout = layout)\n",
        "\n",
        "py.iplot(fig)"
      ],
      "metadata": {
        "id": "1Ij4-qRAjH0V"
      },
      "execution_count": null,
      "outputs": []
    },
    {
      "cell_type": "markdown",
      "source": [
        "Filtro dados 2022"
      ],
      "metadata": {
        "id": "cJBTK524jN9k"
      }
    },
    {
      "cell_type": "code",
      "source": [
        "data = all_data[all_data[\"ANO_BO\"] == 2018].copy()"
      ],
      "metadata": {
        "id": "F1Pay9yhjK0f"
      },
      "execution_count": null,
      "outputs": []
    },
    {
      "cell_type": "code",
      "source": [
        "trace = [go.Bar(\n",
        "            y = data['DESCRICAOLOCAL'].value_counts().index,\n",
        "            x = data['DESCRICAOLOCAL'].value_counts().values,\n",
        "            orientation='h',\n",
        "            textposition = 'auto',\n",
        "            marker=dict(\n",
        "                color='rgb(158,202,225)',\n",
        "                line=dict(\n",
        "                    color='rgb(8,48,107)',\n",
        "                    width=1,\n",
        "                    )\n",
        "                ),\n",
        "            opacity=0.8\n",
        ")]\n",
        "\n",
        "layout = go.Layout(\n",
        "    height=800,\n",
        "    title='Locais das Ocorrências de Roubo de Veículo em 2022',\n",
        "    xaxis=dict(\n",
        "        title = 'Ocorrências',\n",
        "        type='log',\n",
        "        ),\n",
        "     yaxis=go.layout.YAxis(\n",
        "     automargin=True\n",
        "     )\n",
        ")\n",
        "\n",
        "fig = go.Figure(data=trace, layout=layout)\n",
        "\n",
        "py.iplot(fig)"
      ],
      "metadata": {
        "id": "J11qkEumjRhd"
      },
      "execution_count": null,
      "outputs": []
    },
    {
      "cell_type": "markdown",
      "source": [
        "As vias públicas são os locais com maiores indíces de roubo de veículo."
      ],
      "metadata": {
        "id": "nDztAegYjWUN"
      }
    },
    {
      "cell_type": "code",
      "source": [
        "data_ = data[(data['DESCR_TIPO_VEICULO'] != 'Inexist.') & (data['DESCR_TIPO_VEICULO'] != 'Não Informado')]\n",
        "\n",
        "trace = [go.Bar(\n",
        "            x = data_[\"DESCR_TIPO_VEICULO\"].value_counts().index,\n",
        "            y = data_[\"DESCR_TIPO_VEICULO\"].value_counts().values,\n",
        "            text=data_[\"DESCR_TIPO_VEICULO\"].value_counts().values,\n",
        "            textposition = 'auto',\n",
        "            marker=dict(\n",
        "                color='rgb(158,202,225)',\n",
        "                line=dict(\n",
        "                    color='rgb(8,48,107)',\n",
        "                    width=1,\n",
        "                    )\n",
        "                ),\n",
        "            opacity=0.8\n",
        ")]\n",
        "\n",
        "layout = go.Layout(\n",
        "    title='Tipos de veículos mais roubados em 2022',\n",
        "    yaxis=dict(\n",
        "        title='Ocorrências',\n",
        "        ),\n",
        ")\n",
        "\n",
        "fig = go.Figure(data=trace, layout=layout)\n",
        "\n",
        "py.iplot(fig)"
      ],
      "metadata": {
        "id": "JwbbADf3jXnW"
      },
      "execution_count": null,
      "outputs": []
    },
    {
      "cell_type": "code",
      "source": [
        "fig, ax = plt.subplots(figsize=(15,9))\n",
        "\n",
        "cmap = matplotlib.cm.coolwarm\n",
        "mini = data.LOGRADOURO.value_counts().values[19]\n",
        "maxi = data.LOGRADOURO.value_counts().values[0]\n",
        "norm = matplotlib.colors.Normalize(vmin=mini, vmax=maxi)\n",
        "colors = [cmap(norm(value)) for value in data.LOGRADOURO.value_counts().iloc[:100].values]\n",
        "\n",
        "squarify.plot(sizes=data.LOGRADOURO.value_counts().iloc[:20].values, label=data.LOGRADOURO.value_counts().iloc[:20].index, color=colors)\n",
        "\n",
        "plt.axis('off')\n",
        "plt.title(\"Locais com mais ocorrências de roubo de veículo em 2022\", fontsize=18)\n",
        "ttl = ax.title\n",
        "ttl.set_position([.5, 1.05])"
      ],
      "metadata": {
        "id": "XYIExW8cjagU"
      },
      "execution_count": null,
      "outputs": []
    },
    {
      "cell_type": "code",
      "source": [
        "fig, ax = plt.subplots(figsize=(15,9))\n",
        "\n",
        "cmap = matplotlib.cm.coolwarm\n",
        "mini = data.BAIRRO.value_counts().values[49]\n",
        "maxi = data.BAIRRO.value_counts().values[0]\n",
        "norm = matplotlib.colors.Normalize(vmin=mini, vmax=maxi)\n",
        "colors = [cmap(norm(value)) for value in data.BAIRRO.value_counts().iloc[:100].values]\n",
        "\n",
        "squarify.plot(sizes=data.BAIRRO.value_counts().iloc[:50].values, label=data.BAIRRO.value_counts().iloc[:50].index, color=colors)\n",
        "\n",
        "plt.axis('off')\n",
        "plt.title(\"Bairros com mais ocorrências de roubo de veículo em 2022\", fontsize=18)\n",
        "ttl = ax.title\n",
        "ttl.set_position([.5, 1.05])"
      ],
      "metadata": {
        "id": "HmZjKDXsjdEF"
      },
      "execution_count": null,
      "outputs": []
    },
    {
      "cell_type": "markdown",
      "source": [
        "**Criando colunas coordenadas**"
      ],
      "metadata": {
        "id": "yvPzqRX6jh-c"
      }
    },
    {
      "cell_type": "code",
      "source": [
        "df = data.dropna(subset=['LATITUDE', 'LONGITUDE']).copy()\n",
        "df = df[df['DATAOCORRENCIA'] > \"2022-01-01\"]\n",
        "df['coord'] = df[['LATITUDE','LONGITUDE']].apply(tuple, axis=1)"
      ],
      "metadata": {
        "id": "Rfqzpv_Wje_m"
      },
      "execution_count": null,
      "outputs": []
    },
    {
      "cell_type": "markdown",
      "source": [
        "**Mapa de calor do roubo de veículo**"
      ],
      "metadata": {
        "id": "Aep39RyxjqV8"
      }
    },
    {
      "cell_type": "code",
      "source": [
        "m = Map([-23.64992751, -46.62569322], zoom_start=10, width='100%', height='100%')\n",
        "m.add_child(HeatMap(df['coord'], radius=8))\n",
        "m"
      ],
      "metadata": {
        "id": "uHkpw5D0jrgW"
      },
      "execution_count": null,
      "outputs": []
    },
    {
      "cell_type": "markdown",
      "source": [
        "**ClusterMap do roubo de veículos**"
      ],
      "metadata": {
        "id": "jDzMSwyZjxKk"
      }
    },
    {
      "cell_type": "code",
      "source": [
        "pointMap = Map([-23.550, -46.620], zoom_start=10.5, width='100%', height='100%')\n",
        "pointMap.add_child(FastMarkerCluster(df['coord']))\n",
        "pointMap"
      ],
      "metadata": {
        "id": "IErD-3b3jt4X"
      },
      "execution_count": null,
      "outputs": []
    },
    {
      "cell_type": "markdown",
      "source": [
        "**Prevendo Roubo de Veículos**"
      ],
      "metadata": {
        "id": "-DpIYsc_j29V"
      }
    },
    {
      "cell_type": "markdown",
      "source": [
        "**Modelagem Arima**"
      ],
      "metadata": {
        "id": "JWJb9tA1j4Wc"
      }
    },
    {
      "cell_type": "markdown",
      "source": [
        "Série temporal"
      ],
      "metadata": {
        "id": "9WX6rnlGkATc"
      }
    },
    {
      "cell_type": "code",
      "source": [
        "ocorrencias.index =  ocorrencias.Data\n",
        "ocorrencias.drop(columns='Data', inplace=True)\n",
        "ocorrencias.index = pd.to_datetime(ocorrencias.index)"
      ],
      "metadata": {
        "id": "cD9QG6Fbj7tg"
      },
      "execution_count": null,
      "outputs": []
    },
    {
      "cell_type": "markdown",
      "source": [
        "Biblioteca"
      ],
      "metadata": {
        "id": "cGnPxyBpkGfG"
      }
    },
    {
      "cell_type": "code",
      "source": [
        "from plotly.plotly import plot_mpl\n",
        "from statsmodels.tsa.seasonal import seasonal_decompose"
      ],
      "metadata": {
        "id": "DODcvSTWkDNl"
      },
      "execution_count": null,
      "outputs": []
    },
    {
      "cell_type": "markdown",
      "source": [
        "**Decomposição série Temporal**"
      ],
      "metadata": {
        "id": "RG_wNh8ckL0l"
      }
    },
    {
      "cell_type": "code",
      "source": [
        "result = seasonal_decompose(ocorrencias, model='multiplicative')\n",
        "g = result.plot()\n",
        "g.set_figwidth(14)\n",
        "g.set_figheight(14)"
      ],
      "metadata": {
        "id": "fKFvOFjWkOLs"
      },
      "execution_count": null,
      "outputs": []
    },
    {
      "cell_type": "markdown",
      "source": [
        "Biblioteca"
      ],
      "metadata": {
        "id": "JIBOlMvykRaj"
      }
    },
    {
      "cell_type": "code",
      "source": [
        "from statsmodels.graphics.tsaplots import plot_acf\n",
        "from statsmodels.graphics.tsaplots import plot_pacf"
      ],
      "metadata": {
        "id": "wd0o1STykQsF"
      },
      "execution_count": null,
      "outputs": []
    },
    {
      "cell_type": "markdown",
      "source": [
        "**Plot Correlação ACF**"
      ],
      "metadata": {
        "id": "jNK47mvKkW5f"
      }
    },
    {
      "cell_type": "code",
      "source": [
        "g = plot_acf(ocorrencias, title=\"ACF Correlation\")\n",
        "g.set_figheight(8)\n",
        "g.set_figwidth(14)"
      ],
      "metadata": {
        "id": "Mum4LisukVVv"
      },
      "execution_count": null,
      "outputs": []
    },
    {
      "cell_type": "markdown",
      "source": [
        "Podemos começar diferenciando a série temporal com ordem d = 1, a fim de obter uma série temporal estacionária. Se a série não representar bons resultados, outras diferenciações podem ser necessarias."
      ],
      "metadata": {
        "id": "AlZDXEBjkciD"
      }
    },
    {
      "cell_type": "markdown",
      "source": [
        "Diferenciando série Temporal"
      ],
      "metadata": {
        "id": "MQczX-ixkgls"
      }
    },
    {
      "cell_type": "code",
      "source": [
        "ocorrencias_diff = ocorrencias.diff(periods=1)\n",
        "ocorrencias_diff = ocorrencias_diff[1:]"
      ],
      "metadata": {
        "id": "Pcae2jsZkeQF"
      },
      "execution_count": null,
      "outputs": []
    },
    {
      "cell_type": "markdown",
      "source": [
        "Plot da série temporal diferenciada"
      ],
      "metadata": {
        "id": "nKLkCabWkmiN"
      }
    },
    {
      "cell_type": "code",
      "source": [
        "g = ocorrencias_diff.plot(figsize=(14,8), title=\"Série Temporal Diferenciada\", legend=False)"
      ],
      "metadata": {
        "id": "EugakL6fkkvF"
      },
      "execution_count": null,
      "outputs": []
    },
    {
      "cell_type": "markdown",
      "source": [
        "Plot Correlação ACF"
      ],
      "metadata": {
        "id": "vrxRcVqOkr2E"
      }
    },
    {
      "cell_type": "code",
      "source": [
        "g = plot_acf(ocorrencias_diff, title=\"ACF Correlation (d = 1)\")\n",
        "g.set_figheight(8)\n",
        "g.set_figwidth(14)"
      ],
      "metadata": {
        "id": "e9lbCPXykp99"
      },
      "execution_count": null,
      "outputs": []
    },
    {
      "cell_type": "markdown",
      "source": [
        "Através do ACF plot, podemos ver que o valor q = 13, pode ser uma boa escolha de parâmetro."
      ],
      "metadata": {
        "id": "rkeXtu7okuMV"
      }
    },
    {
      "cell_type": "markdown",
      "source": [
        "Definindo combinações"
      ],
      "metadata": {
        "id": "DR4W_lnlkxAe"
      }
    },
    {
      "cell_type": "code",
      "source": [
        "pdq = [(p, 1, 13) for p in range(0, 4)]"
      ],
      "metadata": {
        "id": "mVACmWHUkvBO"
      },
      "execution_count": null,
      "outputs": []
    },
    {
      "cell_type": "markdown",
      "source": [
        "DEFINE P e Q ENTRE 0 e 3"
      ],
      "metadata": {
        "id": "qFq8OrN8k1bV"
      }
    },
    {
      "cell_type": "code",
      "source": [
        "P = Q = range(0, 4)"
      ],
      "metadata": {
        "id": "LD35Tm3Bkzet"
      },
      "execution_count": null,
      "outputs": []
    },
    {
      "cell_type": "markdown",
      "source": [
        "DEFINE COMBINAÇÕES ENTRE P, D e Q"
      ],
      "metadata": {
        "id": "GoV701r3k5yM"
      }
    },
    {
      "cell_type": "code",
      "source": [
        "seasonal_pdq = [(x[0], 1, x[1], 12) for x in list(itertools.product(P, Q))]"
      ],
      "metadata": {
        "id": "t61yz11Qk3Ee"
      },
      "execution_count": null,
      "outputs": []
    },
    {
      "cell_type": "markdown",
      "source": [
        "Melhores parâmetros para o modelo"
      ],
      "metadata": {
        "id": "_GwUeAOJlOHV"
      }
    },
    {
      "cell_type": "code",
      "source": [
        "#scores = {}\n",
        "\n",
        "#for param in pdq:\n",
        "#    for param_seasonal in seasonal_pdq:\n",
        "#        try:\n",
        "#            mod = sm.tsa.statespace.SARIMAX(ocorrencias,\n",
        "#                                            order=param,\n",
        "#                                            seasonal_order=param_seasonal,\n",
        "#                                            enforce_stationarity=False,\n",
        "#                                            enforce_invertibility=False)\n",
        "#\n",
        "#            results = mod.fit()\n",
        "#            scores[param, param_seasonal] = results.aic\n",
        "#\n",
        "#        except:\n",
        "#            continue\n",
        "#\n",
        "#print(\"Melhores parâmetros: \", min(scores, key=scores.get),\" AUC: \", min(scores.values()))\n",
        "\n",
        "# Melhores parâmetros: ((3, 1, 13), (3, 1, 0, 12)) AUC: 916.5604661162852"
      ],
      "metadata": {
        "id": "vyMGtv6flPFx"
      },
      "execution_count": null,
      "outputs": []
    },
    {
      "cell_type": "markdown",
      "source": [
        "Modelo com melhores parâmetros"
      ],
      "metadata": {
        "id": "FwE3S2dIlXku"
      }
    },
    {
      "cell_type": "code",
      "source": [
        "mod = sm.tsa.statespace.SARIMAX(ocorrencias,\n",
        "                                order=(3, 1, 13),\n",
        "                                seasonal_order=(3, 1, 0, 12),\n",
        "                                enforce_stationarity=False,\n",
        "                                enforce_invertibility=False)\n",
        "\n",
        "results = mod.fit()"
      ],
      "metadata": {
        "id": "9g9Dj2U1lYMo"
      },
      "execution_count": null,
      "outputs": []
    },
    {
      "cell_type": "markdown",
      "source": [
        "Resumo modelo"
      ],
      "metadata": {
        "id": "aY76IZinlaWd"
      }
    },
    {
      "cell_type": "code",
      "source": [
        "results.plot_diagnostics(figsize=(15, 12))\n",
        "plt.show()"
      ],
      "metadata": {
        "id": "NCtTxB_jlbwg"
      },
      "execution_count": null,
      "outputs": []
    },
    {
      "cell_type": "markdown",
      "source": [
        "Validação"
      ],
      "metadata": {
        "id": "iK6lCLpdldUV"
      }
    },
    {
      "cell_type": "markdown",
      "source": [
        "Validação do Modelo - Prevendo ocorrências a partir de 2020"
      ],
      "metadata": {
        "id": "PIss8uDcliBP"
      }
    },
    {
      "cell_type": "code",
      "source": [
        "pred = results.get_prediction(start=pd.to_datetime('2020-01-01'), dynamic=False)\n",
        "pred_ci = pred.conf_int()\n",
        "\n",
        "ax = ocorrencias['2019':].plot(figsize=(14, 8))\n",
        "pred.predicted_mean.plot(ax=ax, label='Previsão', alpha=.7)\n",
        "\n",
        "ax.fill_between(pred_ci.index,\n",
        "                pred_ci.iloc[:, 0],\n",
        "                pred_ci.iloc[:, 1], color='k', alpha=.2)\n",
        "\n",
        "ax.set_title(\"Previsão de Ocorrências de Roubo de Veículo\", fontsize=18)\n",
        "ax.set_xlabel('Data')\n",
        "ax.set_ylabel('Ocorrências de Roubo de Veículo')\n",
        "plt.legend()\n",
        "\n",
        "plt.show()"
      ],
      "metadata": {
        "id": "fQR5WO8dle8m"
      },
      "execution_count": null,
      "outputs": []
    },
    {
      "cell_type": "markdown",
      "source": [
        "Calculando o MSE"
      ],
      "metadata": {
        "id": "coO0tipnlmm1"
      }
    },
    {
      "cell_type": "code",
      "source": [
        "y_forecasted = pred.predicted_mean\n",
        "y_truth = ocorrencias[\"2020-01-01\":].squeeze()\n",
        "\n",
        "mse = ((y_forecasted - y_truth) ** 2).mean()\n",
        "\n",
        "print('Mean Squared Error {}'.format(round(mse)))"
      ],
      "metadata": {
        "id": "8UYkPhm1lkfn"
      },
      "execution_count": null,
      "outputs": []
    },
    {
      "cell_type": "markdown",
      "source": [
        "**Previsão**"
      ],
      "metadata": {
        "id": "V50TxOa-lqSY"
      }
    },
    {
      "cell_type": "markdown",
      "source": [
        "Previsão de ocorrências próximos 3 anos"
      ],
      "metadata": {
        "id": "bOQd1oi5lsMG"
      }
    },
    {
      "cell_type": "code",
      "source": [
        "pred_uc = results.get_forecast(steps=36)\n",
        "pred_ci = pred_uc.conf_int()\n",
        "\n",
        "ax = ocorrencias['2022':].plot(figsize=(14, 8))\n",
        "pred_uc.predicted_mean.plot(ax=ax, label='Previsão')\n",
        "ax.fill_between(pred_ci.index,\n",
        "                pred_ci.iloc[:, 0],\n",
        "                pred_ci.iloc[:, 1], color='k', alpha=.25)\n",
        "\n",
        "ax.set_title(\"Previsão de Ocorrências de Roubo de Veículo\", fontsize=18)\n",
        "ax.set_xlabel('Data')\n",
        "ax.set_ylabel('Ocorrências de Roubo de Veículo')\n",
        "\n",
        "plt.legend()\n",
        "plt.show()"
      ],
      "metadata": {
        "id": "G5xviOUSluUI"
      },
      "execution_count": null,
      "outputs": []
    },
    {
      "cell_type": "markdown",
      "source": [
        "A previsão realizada pelo modelo ARIMA reforça a tendência histórica de crescimento dos roubos de veículos, com um intervalo de confiança relativamente alto, devido as variações encontradas na série temporal."
      ],
      "metadata": {
        "id": "mcs0XlmLlyIu"
      }
    }
  ]
}